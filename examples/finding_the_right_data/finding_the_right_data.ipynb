{
 "cells": [
  {
   "cell_type": "markdown",
   "metadata": {},
   "source": [
    "# Do More with Twitter Data\n",
    "\n",
    "Twitter is what's happening and what people are talking about right now, with hundreds of millions of Tweets sent each day. We're a group of data scientists on the Twitter Data team who are helping people do more with this vast amount of data in less time. In this spirit, we are starting a series of tutorials that aim to help people work with Twitter data effectively. Each of the posts in this series centers around a real-life example project and provides MIT-licensed code that you can use to bootstrap your projects with our enterprise and premium API products. We hope this series is fruitful for you and we are excited to see what you'll build."
   ]
  },
  {
   "cell_type": "markdown",
   "metadata": {},
   "source": [
    "## Data Collection, Filtering, and Parsing\n",
    "\n",
    "- By Fiona Pigott,  @[notFromShrek][fiona], Data Scientist at Twitter, Jan 2018\n",
    "\n",
    "In this inaugural post, we'll introduce data collection, filtering, parsing, and summarizing. We want to be able to give readers an easy way to spin up on the Twitter Search APIs, tips around quickly examining data, and guidelines around one of the most difficult and most overlooked Twitter data challenges: making sure you get the right Tweets for the job.\n",
    "\n",
    "\n",
    "### *Caveat*\n",
    "\n",
    "This post is not meant to be a tutorial in Python or the PyData ecosystem and assumes that readers have a reasonable amount of technical sophistication, such that they could find the right Tweets for their use case in any language or framework. This tutorial uses Python because our group makes heavy use of the PyData stack (python, pandas, numpy, etc.), but a technical user could follow along in a programming language of their choice.\n",
    "\n",
    "\n",
    "[fiona]: https://twitter.com/notFromShrek \"Twitter Profile\""
   ]
  },
  {
   "cell_type": "markdown",
   "metadata": {},
   "source": [
    "## Using Twitter data to answer a question\n",
    "\n",
    "Typically you will start with a very high-level question that requires refinement to understand what data might be useful to you in answering that question. For this post, let's start with a broad question:\n",
    "\n",
    "\"*_I want to understand airline customers while they fly._*\"\n",
    "    \n",
    "We'll begin our refinement process from here.\n",
    " \n",
    "## *Why* do we want to know this?\n",
    "\n",
    "Understanding the business need behind a question is paramount. Use it to understand where it is important to spend extra time to be exact, and where an estimation will suffice. Also use \"why\" to understand when the analysis needs to be complete--the best analysis is not useful if it is finished a month after a decision is made and presented.\n",
    "\n",
    "## *What* are we interested in?\n",
    "\n",
    "Use this question to help define where to begin with the analysis and which data to pull. To understand airline customers' behavior while they are flying and getting ready to fly, we are interested in people actually in an airport or on a plane, but we are not interested in people simply talking about airlines (sharing news stories about an airline, for instance).\n",
    " \n",
    "## *When* is this information relevant?\n",
    "\n",
    "Deciding on a relevant timeframe is all about the business use case: if you're tracking a trend over a long period of time, you may need years of data; if you're looking at the audience of a single TV premier, a few days of data may be enough.\n",
    "\n",
    "In the case of our air travel question, we're only interested in any given Twitter user in the few hours around their plane flight, so we don't necessarily need to track Tweets over a long period of time. We do, however, want to get enough of a sample to make generalizations about how people Tweet before and after flights, so we should make sure to collect enough data over a long enough period of time to examine multiple flights.\n",
    "\n",
    "## *Who* are we interested in?\n",
    "\n",
    "Using simple rule filters like country and language can go a long way towards helping us analyze Tweets from the right people. \n",
    "In this case, we're interested in people from all demographics, as long as they are *also* passengers on an airline. We can likely identify those people through their language (\"About to take off, headed home to Boulder!\"), their granular geo-tagged location, or Twitter place (\"Denver International Airport\").\n",
    "\n",
    " \n",
    "## *Where* are they?\n",
    "We can use Twitter's geo data and enrichments to make sure that our users are in relevant locations, if that is important to the question. Another way to approximate a user's location might be the language they speak, or even the time that they are Tweeting (if you're collecting Tweets at 2AM PST, don't expect to see a lot of content from California).\n",
    " \n",
    "Remember, selecting only users for whom we have a very granular locations (like a geo-tag near an airport) means that we only get a sample of users. For studies where we want to know generally what people are talking about that might not be a problem, but it isn't as effective for studies where we want an exact count. Keep those trade-offs in mind when designing a data query.\n",
    "\n",
    "---------------"
   ]
  },
  {
   "cell_type": "markdown",
   "metadata": {},
   "source": [
    "Once we have a good understanding of our question, the next steps are to figure out how to get to the answer using Twitter data. We'll have to get the right data, understand it, and filter out any irrelevant data.\n",
    "\n",
    "__Steps to get to an answer__  \n",
    "\n",
    "1. Consume Tweet data \n",
    "    - We need to get Tweets to analyze them. We'll walk through using the Python client for the Twitter Search API right inside this notebook. All you need is an account.\n",
    "2. Parse Twitter data\n",
    "    - You can't analyze what you can't load. Understand the structure of the data, and get the pieces that are important to your analysis.\n",
    "3. Describe Twitter data\n",
    "     - Descriptive statistics go a long way. What are the most popular hashtags? When are people Tweeting about these topics? Where is noise coming from? Are there specific URLs, hashtags, or @-mentions being shared that *aren't* relevant to your analysis? \n",
    "4. Iterate on your search terms to filter the data\n",
    "    - We can't simply ask for every Tweet. A thoughtful analysis needs to work within the bounds of the Twitter data APIs to filter and retrieve the right data for the job--and for your data budget. Now that you know how to quickly edit rules to retrieve small quantities of data, as well as parse and describe a set of Tweets, it's time to iterate on filters to retrieve the data that is relevant to your question (and not pay for data that isn't).\n",
    "\n",
    "\n",
    "--------------- \n",
    "\n",
    "\n",
    "# 1. Consume Tweet data: the Twitter Search APIs\n",
    "\n",
    "## Twitter Search APIs query language\n",
    "\n",
    "In order to pull Tweets from the Search APIs, you will first have to understand how to write a search query in Twitter's premium / enterprise search API's query language. The most important basics are these:\n",
    "\n",
    "- Operator: Anything that can select or \"match\" a Tweet. One type of operator is a simple token match. A token match operator is simply the word, e.g. `cat`, and matches when that word occurs within the text of the Tweet. Token matches always disregard case.\n",
    "- Logical \"and\": words (tokens) joined by a `space` are treated as queries and-ed together. For instance, the query \"`cat dog`\" would search for Tweets with both `cat` and `dog` somewhere in the text of the Tweet.\n",
    "- Logical \"or\": the operator \"`OR`\" (capitalization is important here) between two tokens means that your rule will match on either term (without needing both to be present). The rule \"`cat OR dog`\" will match on a Tweet with _either_ \"`cat`\" or \"`dog`\" in the Tweet text.\n",
    "- Grouping: use parentheses `()` to group operators together. In the query-language order of operations, \"and\" (`_`) is applied before \"or\" (`OR`), so use parentheses to make your groups explicit. \"`cat dog OR bunny`\" is different from \"`cat (dog OR bunny)`\" (can you see why?).\n",
    "- Negation: use the operator \"`-`\" to negate operators (such as terms that you definitely _don't_ want in your dataset). You might search for Tweets about cats and _not_ about dogs with this type of query \"`cat -dog`\".\n",
    "\n",
    "Detailed information on operators can be found [here](https://developer.twitter.com/en/docs/tweets/search/guides/premium-operators). We'll introduce and use some more advanced operators later.\n",
    "\n",
    "__Caveat__  \n",
    "When using any rule operators, you need to be careful to understand which parts of a field a rule is matching on. On twitter.com a Tweet seems like a simple thing, but a [Twitter data payload](https://developer.twitter.com/en/docs/tweets/data-dictionary/overview/intro-to-tweet-json) can have more than 100 fields, and different operators match on different fields. For this reason, it's important to make sure that you read the documentation around each operator and test your rules to be sure that they are behaving as you expect.  \n",
    "One example: \"`cat`\" (the token match operator) will only match text that the user typed out for that Tweet (it won't for instance, match the word \"`cat`\" in the users's name or bio)."
   ]
  },
  {
   "cell_type": "markdown",
   "metadata": {},
   "source": [
    "## Consuming Tweets\n",
    "In order to Search for Tweets, we're going to use Twitter's [enterprise-grade Twitter search tool](https://developer.twitter.com/en/docs/tweets/search/overview/full-archive-search). This tools allows a user to make a request for Tweets by specifying a rule (more on that in a minute) that matches some Tweets and retrieve results. This tutorial is also compatible with the 30-day search API, though you will have to change some of the dates for searching due to the 30-day historic limitation.\n",
    "\n",
    "\n",
    "__Requesting some Tweets__  \n",
    "In order to search for Tweets, we have to understand specifically how Twitter's search rules work. We'll outline a few simple rules, and we'll talk more about details later when we iterate on our rules.\n",
    "\n",
    " **Time window for search**   \n",
    "   Look for Tweets within a certain time window by specifying the time window in minute granularity.\n",
    "\n",
    " **Search rules are simple, boolean, token matches**  \n",
    "   Tweets are tokenized on spaces and punctuation, and those tokens are matched to a rule. Let's look at a simple example:  \n",
    "   > **Tweet**: `\"Boarding the plane to fly to Tokyo in a few hours! So excited!\"`   \n",
    "   > **Tokens** (capitalization is ignored): `\"boarding\", \"the\", \"plane\", \"to\", \"fly\", \"to\", \"tokyo\", \"in\", \"a\", \"few\", \"hours\", \"so, \"excited\"`\n",
    "\n",
    "A rule that collected this Tweet might have been `\"plane\"` (because the exact token `\"plane\"` is included in the token list). You should note that these matches rely on complete tokens: this Tweet would **not** match if our rule was `\"airplane\"`.    \n",
    "   \n",
    " **You can search for more than one token in a rule**   \n",
    "   A search for Tweets about flying on planes might include any Tweet with the word `\"airplane\"` *or* the word `\"plane\"` *or* the word `\"flying\"` to get all of the relevant Tweets. In a single rule, use the operator `OR` (capitalization is important here) to search for *any* of a set of keywords.   \n",
    "   > `\"airplane OR plane OR flying\"`\n",
    "   \n",
    " **You can combine criteria using *and* logic, and combine tokens into phrases using quotation marks**   \n",
    "   Maybe you want the to find Tweet that include the word `\"flying\"` and the word `\"plane\"` but only when they appear together. Here, you would want to use Boolean `AND` logic to combine tokens into a single rule. In the syntax of Twitter's Search API, `AND` is simply represented by a space.\n",
    "   > **rule**: `flying plane`  \n",
    "   > **match**: `\"I'm flying in a plane!\"`  \n",
    "   > **no match**: `\"I'm flying!\"` or `\"I'm in a plane!\"`\n",
    "   \n",
    "   You can also look for specific phrases (combinations of tokens) using quotation marks. Use `\"` to combine tokens and look for them in a specific phrase.\n",
    "   > **rule**: `\"air travel\"`  \n",
    "   > **match**: `\"Air travel is great\"`  \n",
    "   > **no match**: `\"Travel by air is great\"` or `\"Traveling in an airplane\"`\n",
    "\n",
    " **You can exclude certain tokens that are irrelevant to your analysis**    \n",
    "  Keep in mind that tokens do not exactly map to meaning (especially on a colloquial platform like Twitter). If you are looking for Tweets about flying (on an airplane), and you submit the rule `\"flying\"`, `\"I don't give a flying f**k what you do.\"` would match your rule (true story: I've had to exclude the phrase `\"flying f**k\"` from this analysis 😳).   \n",
    "  Use a \"`-`\" to exclude, and use parentheses to group together logical clauses:\n",
    "  > `\"(airplane OR plane OR flying) -fuck\"`   \n",
    "\n",
    "This isn't a comprehensive guide, and more clarification can be found in our [documentation](http://support.gnip.com/apis/search_api2.0/rules.html).\n",
    "\n",
    "\n",
    "__Getting the results__  \n",
    "Twitter's Search APIs return results in *pages*, with up to 500 Tweets per page for paid tiers. For users in a sandbox environment, you can receive a maximum of 100 Tweets per call. For a very low-volume search, you might only need one page to retrieve all of the results. For a high-volume search, you can choose to make multiple API call to receive multiple pages of results.\n",
    "\n",
    "__Python client__  \n",
    "Consuming data from Twitter APIs directly into an environment where we can analyze them is important for fast iteration on queries. The data science team has created some Python libraries that make it easy to consume data from Twitter's Search APIs directly into this notebook.\n",
    "\n",
    "This package can be found at https://github.com/twitterdev/search-tweets-python and implements a Python wrapper to:\n",
    "  - Create appropriately formatted rule payloads (date and rule query parameters)\n",
    "  - Make requests of the API\n",
    "  - Gracefully handle pagination of Search APIs results (be aware--the tool can make multiple API calls, so but sure to set the `max_tweets` parameter, which we'll point out)\n",
    "  - Load the resultant Tweet text data as Python objects"
   ]
  },
  {
   "cell_type": "markdown",
   "metadata": {},
   "source": [
    "## Running This Notebook\n",
    "\n",
    "If you want to run this notebook, it is hosted [here](https://github.com/twitterdev/do_more_with_twitter_data). Clone this repo and you'll see this notebook in the `examples/finding_the_right_data` directory.\n",
    "Please see the accompanying `README.md` file for full instructions. We've provided both a pip-ready `finding_the_right_data_requirements.txt` file and a conda environment file, `finding_the_right_data_conda_env.yml` that allows an easy virtual environment for this example. This example assumes Python 3.6.\n",
    "\n",
    "\n",
    "\n",
    "__Credentials__  \n",
    "\n",
    "Please go ahead and make a YAML file named `.twitter_keys.yaml` in your home directory. \n",
    "\n",
    "\n",
    "For premium customers, the simplest credential file should look like this:\n",
    "\n",
    "```yaml\n",
    "\n",
    "search_tweets_api:\n",
    "  account_type: premium\n",
    "  endpoint: <FULL_URL_OF_ENDPOINT>\n",
    "  consumer_key: <CONSUMER_KEY>\n",
    "  consumer_secret: <CONSUMER_SECRET>\n",
    "```\n",
    "\n",
    "For enterprise customers, the simplest credential file should look like this:\n",
    "\n",
    "```yaml\n",
    "\n",
    "search_tweets_api:\n",
    "  account_type: enterprise\n",
    "  endpoint: <FULL_URL_OF_ENDPOINT>\n",
    "  username: <USERNAME>\n",
    "  password: <PW>\n",
    "```\n",
    "\n",
    "\n",
    "The rest of the example will assume `~/.twitter_keys.yaml` exists, though you can specify your connection information directing in the notebook or using an environment variable if you want. For more information, please see the `searchtweets` [section on credential handling](https://twitterdev.github.io/search-tweets-python/#credential-handling).\n",
    "\n",
    "\n",
    "The `load_credentials` function parses this file and we'll save the `search_args` variable for use throughout the session."
   ]
  },
  {
   "cell_type": "code",
   "execution_count": 1,
   "metadata": {
    "collapsed": true
   },
   "outputs": [],
   "source": [
    "from tweet_parser.tweet import Tweet\n",
    "from searchtweets import (ResultStream,\n",
    "                           collect_results,\n",
    "                           gen_rule_payload,\n",
    "                           load_credentials)\n",
    "\n",
    "search_args = load_credentials(filename=\"~/.twitter_keys.yaml\",\n",
    "                               account_type=\"enterprise\")"
   ]
  },
  {
   "cell_type": "markdown",
   "metadata": {},
   "source": [
    "In the following cells, we'll define our rule and rule payloads, then use the `collect_results` method to get our tweets.\n",
    "\n",
    "First - it is often convenient to assign a rule to a variable. Rules are strings and can be simple strings, e.g., `\"(flying OR plane)\"` or be literal blocks, which can be easier to read for long rules: \n",
    "\n",
    "```\n",
    "\"\"\"\n",
    "(flying \n",
    " OR plane\n",
    " OR landed)\n",
    "\"\"\"\n",
    "```\n",
    "\n",
    "The remaining functions will parse newlines correctly.\n",
    "\n",
    "Below, we'll start with a simple rule."
   ]
  },
  {
   "cell_type": "code",
   "execution_count": 2,
   "metadata": {
    "collapsed": true
   },
   "outputs": [],
   "source": [
    "_rule_a = \"(flying OR plane OR landed OR airport OR takeoff)\""
   ]
  },
  {
   "cell_type": "markdown",
   "metadata": {},
   "source": [
    "The function, `gen_rule_payload`, will generate the JSON used to make requests to the search endpoint. Its full API doc lives [here](https://twitterdev.github.io/twitter_search_api/twittersearch.html#twittersearch.api_utils.gen_rule_payload), but it has several main parameters:\n",
    "\n",
    "1. `pt_rule` (or the first positional arg) – The string version of a powertrack rule\n",
    "2. `results_per_call` – number of tweets or counts returned per API. Defaults to 500 to reduce API call usage, but you can change it as needed. It can range from 100-500.\n",
    "3. `from_date` – Date the starting time of your search.\n",
    "4. `to_date` – Date  for the end time of your search.\n",
    "5. `count_bucket` – If using the counts api endpoint, this will define the count bucket for which tweets are aggregated. This must be set if you want to use the Counts API.\n",
    "\n",
    "\n",
    "The time searches can be specified via the following dates or datetimes, down to minutes, e.g.:\n",
    "\n",
    "- `2017-12-31`\n",
    "- `2017-12-31 23:50`\n",
    "- `2017-12-31T23:50`\n",
    "- `201712312350`\n",
    "\n",
    "Specifying a date will return a date starting at 00:00. \n",
    "\n",
    "The `from_date` and `to_date` parameters are optional. The search API defaults to returning up to the last 30 day's worth of tweets."
   ]
  },
  {
   "cell_type": "code",
   "execution_count": 3,
   "metadata": {},
   "outputs": [
    {
     "data": {
      "text/plain": [
       "'{\"query\":\"(flying OR plane OR landed OR airport OR takeoff)\",\"maxResults\":500,\"toDate\":\"201708010000\",\"fromDate\":\"201707010000\"}'"
      ]
     },
     "execution_count": 3,
     "metadata": {},
     "output_type": "execute_result"
    }
   ],
   "source": [
    "rule_a = gen_rule_payload(_rule_a,\n",
    "                        from_date=\"2017-07-01\",\n",
    "                        to_date=\"2017-08-01\",\n",
    "                        results_per_call=500)\n",
    "\n",
    "rule_a"
   ]
  },
  {
   "cell_type": "markdown",
   "metadata": {},
   "source": [
    "The `collect_results` function is the fastest entry point to getting Tweets. It has several parameters:\n",
    "\n",
    "- `rule`: a valid payload made from `gen_rule_payload`\n",
    "- `max_results`: the maximum number of Tweets or counts you want to receive\n",
    "- `result_stream_args`: the search arguments and authentication info for this request.\n",
    "\n",
    "And it returns a list of results, Tweets or counts."
   ]
  },
  {
   "cell_type": "code",
   "execution_count": 4,
   "metadata": {
    "collapsed": true
   },
   "outputs": [],
   "source": [
    "results_list = collect_results(rule_a, \n",
    "                               max_results=500, \n",
    "                               result_stream_args=search_args)"
   ]
  },
  {
   "cell_type": "code",
   "execution_count": 5,
   "metadata": {
    "scrolled": true
   },
   "outputs": [
    {
     "data": {
      "text/plain": [
       "{'contributors': None,\n",
       " 'coordinates': None,\n",
       " 'created_at': 'Mon Jul 31 23:59:59 +0000 2017',\n",
       " 'entities': {'hashtags': [{'indices': [43, 50], 'text': 'defcon'}],\n",
       "  'symbols': [],\n",
       "  'urls': [],\n",
       "  'user_mentions': []},\n",
       " 'favorite_count': 0,\n",
       " 'favorited': False,\n",
       " 'filter_level': 'low',\n",
       " 'geo': None,\n",
       " 'id': 892173026116202498,\n",
       " 'id_str': '892173026116202498',\n",
       " 'in_reply_to_screen_name': None,\n",
       " 'in_reply_to_status_id': None,\n",
       " 'in_reply_to_status_id_str': None,\n",
       " 'in_reply_to_user_id': None,\n",
       " 'in_reply_to_user_id_str': None,\n",
       " 'is_quote_status': False,\n",
       " 'lang': 'en',\n",
       " 'matching_rules': [{'tag': None}],\n",
       " 'place': None,\n",
       " 'quote_count': 0,\n",
       " 'reply_count': 0,\n",
       " 'retweet_count': 0,\n",
       " 'retweeted': False,\n",
       " 'source': '<a href=\"http://tapbots.com/tweetbot\" rel=\"nofollow\">Tweetbot for iΟS</a>',\n",
       " 'text': 'Left for airport at 4:45AM, pleased to see #defcon hackers still partying at Caesars bars. Not pleased to be heading to airport at 4:45AM.',\n",
       " 'truncated': False,\n",
       " 'user': {'contributors_enabled': False,\n",
       "  'created_at': 'Tue Jul 26 12:59:48 +0000 2016',\n",
       "  'default_profile': True,\n",
       "  'default_profile_image': False,\n",
       "  'derived': {'klout': {'influence_topics': [{'id': '14711',\n",
       "      'name': 'Computers',\n",
       "      'score': 0.66,\n",
       "      'url': 'http://klout.com/topic/id/14711'},\n",
       "     {'id': '10000000000000000019',\n",
       "      'name': 'Aerospace',\n",
       "      'score': 0.51,\n",
       "      'url': 'http://klout.com/topic/id/10000000000000000019'},\n",
       "     {'id': '5715144008489027056',\n",
       "      'name': 'Hacking',\n",
       "      'score': 0.51,\n",
       "      'url': 'http://klout.com/topic/id/5715144008489027056'},\n",
       "     {'id': '6333513374221291742',\n",
       "      'name': 'Information Security',\n",
       "      'score': 0.48,\n",
       "      'url': 'http://klout.com/topic/id/6333513374221291742'},\n",
       "     {'id': '10000000000000000013',\n",
       "      'name': 'Armed Forces',\n",
       "      'score': 0.46,\n",
       "      'url': 'http://klout.com/topic/id/10000000000000000013'}],\n",
       "    'interest_topics': [{'id': '6333513374221291742',\n",
       "      'name': 'Information Security',\n",
       "      'score': 0.7000000000000001,\n",
       "      'url': 'http://klout.com/topic/id/6333513374221291742'},\n",
       "     {'id': '5715144008489027056',\n",
       "      'name': 'Hacking',\n",
       "      'score': 0.66,\n",
       "      'url': 'http://klout.com/topic/id/5715144008489027056'},\n",
       "     {'id': '10000000000000018702',\n",
       "      'name': 'Cybersecurity',\n",
       "      'score': 0.64,\n",
       "      'url': 'http://klout.com/topic/id/10000000000000018702'},\n",
       "     {'id': '10000000000000000013',\n",
       "      'name': 'Armed Forces',\n",
       "      'score': 0.63,\n",
       "      'url': 'http://klout.com/topic/id/10000000000000000013'},\n",
       "     {'id': '14711',\n",
       "      'name': 'Computers',\n",
       "      'score': 0.62,\n",
       "      'url': 'http://klout.com/topic/id/14711'}],\n",
       "    'profile_url': 'http://klout.com/user/id/120189854649800254',\n",
       "    'score': 13,\n",
       "    'user_id': '120189854649800254'}},\n",
       "  'description': 'davrik',\n",
       "  'favourites_count': 1,\n",
       "  'follow_request_sent': None,\n",
       "  'followers_count': 15,\n",
       "  'following': None,\n",
       "  'friends_count': 27,\n",
       "  'geo_enabled': False,\n",
       "  'id': 757923373951422464,\n",
       "  'id_str': '757923373951422464',\n",
       "  'is_translator': False,\n",
       "  'lang': 'en',\n",
       "  'listed_count': 0,\n",
       "  'location': 'cyber cyber cyber',\n",
       "  'name': 'davrik',\n",
       "  'notifications': None,\n",
       "  'profile_background_color': 'F5F8FA',\n",
       "  'profile_background_image_url': '',\n",
       "  'profile_background_image_url_https': '',\n",
       "  'profile_background_tile': False,\n",
       "  'profile_banner_url': 'https://pbs.twimg.com/profile_banners/757923373951422464/1469539141',\n",
       "  'profile_image_url': 'http://pbs.twimg.com/profile_images/757928014541905920/raYPrm1a_normal.jpg',\n",
       "  'profile_image_url_https': 'https://pbs.twimg.com/profile_images/757928014541905920/raYPrm1a_normal.jpg',\n",
       "  'profile_link_color': '1DA1F2',\n",
       "  'profile_sidebar_border_color': 'C0DEED',\n",
       "  'profile_sidebar_fill_color': 'DDEEF6',\n",
       "  'profile_text_color': '333333',\n",
       "  'profile_use_background_image': True,\n",
       "  'protected': False,\n",
       "  'screen_name': '0davrik',\n",
       "  'statuses_count': 19,\n",
       "  'time_zone': None,\n",
       "  'translator_type': 'none',\n",
       "  'url': None,\n",
       "  'utc_offset': None,\n",
       "  'verified': False}}"
      ]
     },
     "execution_count": 5,
     "metadata": {},
     "output_type": "execute_result"
    }
   ],
   "source": [
    "# hark, a Tweet!\n",
    "results_list[0]"
   ]
  },
  {
   "cell_type": "markdown",
   "metadata": {},
   "source": [
    "## 2. Parse Twitter data\n",
    "\n",
    "Let's take the 1st Tweet from our results list and discuss its various elements.\n",
    "\n",
    "Tweet data is returned from the API as a single JSON payload with a `results` array, containing many JSON Tweet payloads. The `searchtweets` package parses that data for you (including abstracting away concerns about the specific format of the Tweet payloads) using our [`tweet_parser`](https://github.com/tw-ddis/tweet_parser) package and handles any errors caused by non-Tweet messages (like logging messages), returning `Tweet` objects (I'll explain about that in a second). \n",
    "\n",
    "\n",
    "To better understand Tweets, you should check out [our developer website](https://developer.twitter.com/en/docs/tweets/data-dictionary/overview/intro-to-tweet-json ) for information on Tweet payload elements. For now, I'm going to explain a few key elements of a Tweet and how to access them.\n",
    "\n",
    "## The nitty gritty: Tweet payloads\n",
    "\n",
    "We'll grab a single example Tweet: just the first one from our list.\n",
    "This is a Tweet object, which has all of the properties of a Python `dict` as well as some special, Tweet-specific attributes."
   ]
  },
  {
   "cell_type": "code",
   "execution_count": 6,
   "metadata": {
    "scrolled": true
   },
   "outputs": [
    {
     "data": {
      "text/plain": [
       "892173026116202498"
      ]
     },
     "execution_count": 6,
     "metadata": {},
     "output_type": "execute_result"
    }
   ],
   "source": [
    "example_tweet = results_list[0]\n",
    "example_tweet[\"id\"]"
   ]
  },
  {
   "cell_type": "markdown",
   "metadata": {},
   "source": [
    "**A note on Tweet formatting and payload element naming**  \n",
    "\n",
    "It just so happens that the format of this Tweet is \"original format,\" so we can look up the keys\n",
    "(names of payload elements) on our support website. \n",
    "It's possible (but unlikely) that your Search API stream is configured slightly differently, and you're looking at \"activity streams\" formatted Tweets (if so, this is completely fine). We'll add the equivalent \"activity streams\" keys in the comments.\n",
    "\n",
    "You can look up specific of Tweet payload elements [here](https://developer.twitter.com/en/docs/tweets/data-dictionary/overview/tweet-object).\n",
    "\n",
    "Note that the `tweet_parser` package will abstract away the format of the Tweet, and either activity streams or original format will work fine in this notebook.\n",
    "\n",
    "**Now, the text of a Tweet:**\n",
    "\n",
    "The text of the Tweet (the thing you type, the characters that display in the Tweet) is stored as a top-level key called \"text.\""
   ]
  },
  {
   "cell_type": "code",
   "execution_count": 7,
   "metadata": {},
   "outputs": [
    {
     "name": "stdout",
     "output_type": "stream",
     "text": [
      "Left for airport at 4:45AM, pleased to see #defcon hackers still partying at Caesars bars. Not pleased to be heading to airport at 4:45AM.\n"
     ]
    }
   ],
   "source": [
    "print(results_list[0][\"text\"])\n",
    "\n",
    "# uncomment the following if you appear to have an activity-stream formatted Tweet\n",
    "# (the names of the payload elements are different, the data is the same):\n",
    "# results_list[0][\"body\"]"
   ]
  },
  {
   "cell_type": "markdown",
   "metadata": {},
   "source": [
    "**Other Tweet elements**  \n",
    "Be sure to read the documentation, we cannot enumerate every Tweet element here. Note that certain fundamental and useful Tweet elements are extracted for you, such as a #hashtag or an @mention.\n",
    "\n",
    "You can access, for instance, a Tweet's #hashtags like this:"
   ]
  },
  {
   "cell_type": "code",
   "execution_count": 8,
   "metadata": {},
   "outputs": [
    {
     "data": {
      "text/plain": [
       "[{'indices': [43, 50], 'text': 'defcon'}]"
      ]
     },
     "execution_count": 8,
     "metadata": {},
     "output_type": "execute_result"
    }
   ],
   "source": [
    "results_list[0][\"entities\"][\"hashtags\"]\n",
    "\n",
    "# uncomment the following if you appear to have an activity-stream formatted Tweet\n",
    "# results_list[0][\"twitter_entities\"][\"hashtags\"]"
   ]
  },
  {
   "cell_type": "code",
   "execution_count": 9,
   "metadata": {},
   "outputs": [
    {
     "data": {
      "text/plain": [
       "[[{'indices': [43, 50], 'text': 'defcon'}],\n",
       " [],\n",
       " [{'indices': [22, 30], 'text': 'Algerie'}],\n",
       " [],\n",
       " [],\n",
       " [{'indices': [1, 5], 'text': 'New'}],\n",
       " [],\n",
       " [],\n",
       " [],\n",
       " []]"
      ]
     },
     "execution_count": 9,
     "metadata": {},
     "output_type": "execute_result"
    }
   ],
   "source": [
    "# in case that first Tweet didn't actually have any hashtags:\n",
    "[x[\"entities\"][\"hashtags\"] for x in results_list[0:10]]\n",
    "\n",
    "# uncomment the following if you appear to have an activity-stream formatted Tweet\n",
    "# [x[\"twitter_entities\"][\"hashtags\"] for x in results_list[0:10]]"
   ]
  },
  {
   "cell_type": "markdown",
   "metadata": {},
   "source": [
    "## tweet_parser\n",
    "\n",
    "You will always need to understand Tweet payloads to work with Tweets, but a Python package from this team (`pip install tweet_parser`) attempts to remove some of the hassle of accessing elements of a Tweet. This package works seamlessly with both possible Twitter data formats, and supplies the `Tweet` object we referred to earlier.\n",
    "\n",
    "Before doing a lot of work with this package (but not right this minute!), we would encourage you to read the documentation for the `tweet_parser` package at https://twitterdev.github.io/tweet_parser/. The package is open-source and available on GitHub at https://github.com/twitterdev/tweet_parser. Feel free to submit issues or make pull requests.\n",
    "\n",
    "The `Tweet` object has properties that allow you to access useful elements of a Tweet without dealing with its format. For instance, we can access some of the text fields of a Tweet with:"
   ]
  },
  {
   "cell_type": "code",
   "execution_count": 10,
   "metadata": {},
   "outputs": [
    {
     "name": "stdout",
     "output_type": "stream",
     "text": [
      "Literally the content of the 'text' field: \n",
      "Left for airport at 4:45AM, pleased to see #defcon hackers still partying at Caesars bars. Not pleased to be heading to airport at 4:45AM.\n",
      "\n",
      "Other fields, like the content of a quoted tweet or the options of a poll: None, []\n"
     ]
    }
   ],
   "source": [
    "print(\"Literally the content of the 'text' field: \\n{}\\n\" .format(results_list[0].text))\n",
    "print(\"Other fields, like the content of a quoted tweet or the options of a poll: {}, {}\".format(\n",
    "    results_list[0].quoted_tweet.text if results_list[0].quoted_tweet else None,\n",
    "    results_list[0].poll_options))"
   ]
  },
  {
   "cell_type": "markdown",
   "metadata": {},
   "source": [
    "As the Twitter platform changes, so do the fields in the data payload. For instance, \"extended\" and \"truncated\" tweets have been introduced to stop 280 character from causing breaking changes. The `Tweet` object has a convenience property `.all_text` that gets \"all\" the text that a Tweet displays."
   ]
  },
  {
   "cell_type": "code",
   "execution_count": 11,
   "metadata": {},
   "outputs": [
    {
     "data": {
      "text/plain": [
       "'Left for airport at 4:45AM, pleased to see #defcon hackers still partying at Caesars bars. Not pleased to be heading to airport at 4:45AM.'"
      ]
     },
     "execution_count": 11,
     "metadata": {},
     "output_type": "execute_result"
    }
   ],
   "source": [
    "results_list[0].all_text"
   ]
  },
  {
   "cell_type": "markdown",
   "metadata": {},
   "source": [
    "We cannot dive into detail on every property of `Tweet` that we'll use in this notebook, but hopefully you get the idea. When we call `.something` on a `Tweet`, that `.something` is provided in the `tweet_parser` package and documented there.  \n",
    "\n",
    "For now, we will describe the elements of the payload that we'll use in this analysis.\n",
    "\n",
    "- **time**: The time that a Tweet was created. This is always reported in UTC in the Tweet payload, and you can look for the user's timezone in the \"user\" portion of a Tweet payload if you want to translate this time to the user's time-of-day. A string of time information can be found in the `created_at` element of a Tweet, but since we're using the `tweet_parser` package, we can access a Python datetime object with `tweet.created_at_datetime` or an integer representing seconds since Jan 1, 1970 with `tweet.created_at_seconds`.\n",
    "- **user**: The user who created the Tweet. The \"user\" portion of a Tweet payload contains many valuable elements, including the user's id (`tweet[\"user\"][\"id\"]`, or `tweet.user_id` with the `tweet_parser` package), the user's screen name (`tweet.screen_name`, keep in mind that the user name may change), the user's timezone, potentially their derived location, their bio (a user-entered description at, `tweet.bio`) and more.\n",
    "- **text**: The text of the Tweet. As Tweets get more complex (Retweets, Quote Tweets, poll Tweets, Tweets with hidden @-mentions and links), the text that you read in a Tweet can appear in many different areas of a Tweet payload. Here using the `tweet_parser`-provided attribute `tweet.all_text`, which aggregates all of the possible text fields of a Tweet (the quoted text, the poll text, the hidden @-mentions, etc) into one string.\n",
    "- **hashtags**: Tweet payloads contain a field that list hashtags present in the Tweet (you do not have to parse them out yourself). The `tweet_parser` Tweet attribute `tweet.hashtags` provides a list of hashtags.\n",
    "- **mentions**: You don't have to parse out @-mentions yourself either. Use `tweet.user_mentions` for a list of users (names and ids) mentioned in a Tweet.\n",
    "- **URLs**: Many Tweet contain links to outside sources, articles or media. You can pull the literal link text from a Tweet, or use Twitter's URL enrichments (if you've purchased them) to unroll URLs and get insight into the linked content.\n",
    "- **geo**: For the small sample of Tweets where explicit lat/lon geo data is available, use `tweet.geo_coordinates` to get locations.\n",
    "\n",
    "Now we can take all of those aforementioned elements, parse them out of my Tweets, and put them in a [Pandas](https://pandas.pydata.org/pandas-docs/stable/) [Dataframe](https://pandas.pydata.org/pandas-docs/stable/dsintro.html#dataframe)."
   ]
  },
  {
   "cell_type": "code",
   "execution_count": 12,
   "metadata": {
    "collapsed": true
   },
   "outputs": [],
   "source": [
    "import pandas as pd\n",
    "\n",
    "# make a pandas dataframe\n",
    "data_df = pd.DataFrame([{\"date\": x.created_at_datetime,\n",
    "                         \"text\": x.all_text,\n",
    "                         \"user\": x.screen_name,\n",
    "                         \"bio\": x.bio,\n",
    "                         \"at_mentions\": [u[\"screen_name\"] for u in x.user_mentions],\n",
    "                         \"hashtags\": x.hashtags,\n",
    "                         \"urls\": x.most_unrolled_urls,\n",
    "                         \"geo\": x.geo_coordinates,\n",
    "                         \"type\": x.tweet_type,\n",
    "                         \"id\": x.id} for x in results_list]).set_index(\"date\")"
   ]
  },
  {
   "cell_type": "markdown",
   "metadata": {},
   "source": [
    "## Before you read these Tweets\n",
    "\n",
    "You're going to look at this Tweet data and you (should) feel a little sad. We did all that work talking about rules, you've heard so much about Twitter data, and these Tweets mostly don't seem relevant to our usecase at all. They're not from our target audience (people flying on planes) and they're not even necessarily about plane trips. What gives?\n",
    "\n",
    "There's a reason we started out with only one API call: we didn't want to waste calls pulling Tweets using an unrefined ruleset. This notebook is going to be about making better decisions about rules, iterating, and refining them until you get the Tweets that you want. And those Tweets are out there - there are, after all, *lots* of Tweets."
   ]
  },
  {
   "cell_type": "code",
   "execution_count": 13,
   "metadata": {},
   "outputs": [
    {
     "data": {
      "text/html": [
       "<div>\n",
       "<style scoped>\n",
       "    .dataframe tbody tr th:only-of-type {\n",
       "        vertical-align: middle;\n",
       "    }\n",
       "\n",
       "    .dataframe tbody tr th {\n",
       "        vertical-align: top;\n",
       "    }\n",
       "\n",
       "    .dataframe thead th {\n",
       "        text-align: right;\n",
       "    }\n",
       "</style>\n",
       "<table border=\"1\" class=\"dataframe\">\n",
       "  <thead>\n",
       "    <tr style=\"text-align: right;\">\n",
       "      <th></th>\n",
       "      <th>at_mentions</th>\n",
       "      <th>bio</th>\n",
       "      <th>geo</th>\n",
       "      <th>hashtags</th>\n",
       "      <th>id</th>\n",
       "      <th>text</th>\n",
       "      <th>type</th>\n",
       "      <th>urls</th>\n",
       "      <th>user</th>\n",
       "    </tr>\n",
       "    <tr>\n",
       "      <th>date</th>\n",
       "      <th></th>\n",
       "      <th></th>\n",
       "      <th></th>\n",
       "      <th></th>\n",
       "      <th></th>\n",
       "      <th></th>\n",
       "      <th></th>\n",
       "      <th></th>\n",
       "      <th></th>\n",
       "    </tr>\n",
       "  </thead>\n",
       "  <tbody>\n",
       "    <tr>\n",
       "      <th>2017-07-31 23:59:59</th>\n",
       "      <td>[]</td>\n",
       "      <td>davrik</td>\n",
       "      <td>None</td>\n",
       "      <td>[defcon]</td>\n",
       "      <td>892173026116202498</td>\n",
       "      <td>Left for airport at 4:45AM, pleased to see #de...</td>\n",
       "      <td>tweet</td>\n",
       "      <td>[]</td>\n",
       "      <td>0davrik</td>\n",
       "    </tr>\n",
       "    <tr>\n",
       "      <th>2017-07-31 23:59:58</th>\n",
       "      <td>[God1stAmerica2d]</td>\n",
       "      <td>Proudly Politically Incorrect. Widow of US Mar...</td>\n",
       "      <td>None</td>\n",
       "      <td>[]</td>\n",
       "      <td>892173019040202752</td>\n",
       "      <td>Why is this even a question. ID needed for lic...</td>\n",
       "      <td>retweet</td>\n",
       "      <td>[https://twitter.com/i/web/status/892144209418...</td>\n",
       "      <td>AliasHere</td>\n",
       "    </tr>\n",
       "    <tr>\n",
       "      <th>2017-07-31 23:59:57</th>\n",
       "      <td>[LPLdirect]</td>\n",
       "      <td>🇬🇳🇺🇸</td>\n",
       "      <td>None</td>\n",
       "      <td>[Algerie]</td>\n",
       "      <td>892173017186435073</td>\n",
       "      <td>🔴INFOS #Algerie\\n\\nDeux pilotes d' Air Algérie...</td>\n",
       "      <td>retweet</td>\n",
       "      <td>[https://twitter.com/i/web/status/892152194920...</td>\n",
       "      <td>Wyzzyddl</td>\n",
       "    </tr>\n",
       "    <tr>\n",
       "      <th>2017-07-31 23:59:57</th>\n",
       "      <td>[Simbaki_]</td>\n",
       "      <td>🏳️‍🌈 sc : kailabrielleeee / match ?</td>\n",
       "      <td>None</td>\n",
       "      <td>[]</td>\n",
       "      <td>892173016372838400</td>\n",
       "      <td>We are unappreciative... we don't deserve Take...</td>\n",
       "      <td>retweet</td>\n",
       "      <td>[]</td>\n",
       "      <td>KailaBrielleee_</td>\n",
       "    </tr>\n",
       "    <tr>\n",
       "      <th>2017-07-31 23:59:56</th>\n",
       "      <td>[realDonaldTrump]</td>\n",
       "      <td>Consultant • 💻 Network Engineer • brunch advoc...</td>\n",
       "      <td>None</td>\n",
       "      <td>[]</td>\n",
       "      <td>892173013625573376</td>\n",
       "      <td>@realDonaldTrump Watch Trump get lost going fr...</td>\n",
       "      <td>quote</td>\n",
       "      <td>[https://twitter.com/i/web/status/892173013625...</td>\n",
       "      <td>LoveRunandPray</td>\n",
       "    </tr>\n",
       "  </tbody>\n",
       "</table>\n",
       "</div>"
      ],
      "text/plain": [
       "                           at_mentions  \\\n",
       "date                                     \n",
       "2017-07-31 23:59:59                 []   \n",
       "2017-07-31 23:59:58  [God1stAmerica2d]   \n",
       "2017-07-31 23:59:57        [LPLdirect]   \n",
       "2017-07-31 23:59:57         [Simbaki_]   \n",
       "2017-07-31 23:59:56  [realDonaldTrump]   \n",
       "\n",
       "                                                                   bio   geo  \\\n",
       "date                                                                           \n",
       "2017-07-31 23:59:59                                             davrik  None   \n",
       "2017-07-31 23:59:58  Proudly Politically Incorrect. Widow of US Mar...  None   \n",
       "2017-07-31 23:59:57                                               🇬🇳🇺🇸  None   \n",
       "2017-07-31 23:59:57                🏳️‍🌈 sc : kailabrielleeee / match ?  None   \n",
       "2017-07-31 23:59:56  Consultant • 💻 Network Engineer • brunch advoc...  None   \n",
       "\n",
       "                      hashtags                  id  \\\n",
       "date                                                 \n",
       "2017-07-31 23:59:59   [defcon]  892173026116202498   \n",
       "2017-07-31 23:59:58         []  892173019040202752   \n",
       "2017-07-31 23:59:57  [Algerie]  892173017186435073   \n",
       "2017-07-31 23:59:57         []  892173016372838400   \n",
       "2017-07-31 23:59:56         []  892173013625573376   \n",
       "\n",
       "                                                                  text  \\\n",
       "date                                                                     \n",
       "2017-07-31 23:59:59  Left for airport at 4:45AM, pleased to see #de...   \n",
       "2017-07-31 23:59:58  Why is this even a question. ID needed for lic...   \n",
       "2017-07-31 23:59:57  🔴INFOS #Algerie\\n\\nDeux pilotes d' Air Algérie...   \n",
       "2017-07-31 23:59:57  We are unappreciative... we don't deserve Take...   \n",
       "2017-07-31 23:59:56  @realDonaldTrump Watch Trump get lost going fr...   \n",
       "\n",
       "                        type  \\\n",
       "date                           \n",
       "2017-07-31 23:59:59    tweet   \n",
       "2017-07-31 23:59:58  retweet   \n",
       "2017-07-31 23:59:57  retweet   \n",
       "2017-07-31 23:59:57  retweet   \n",
       "2017-07-31 23:59:56    quote   \n",
       "\n",
       "                                                                  urls  \\\n",
       "date                                                                     \n",
       "2017-07-31 23:59:59                                                 []   \n",
       "2017-07-31 23:59:58  [https://twitter.com/i/web/status/892144209418...   \n",
       "2017-07-31 23:59:57  [https://twitter.com/i/web/status/892152194920...   \n",
       "2017-07-31 23:59:57                                                 []   \n",
       "2017-07-31 23:59:56  [https://twitter.com/i/web/status/892173013625...   \n",
       "\n",
       "                                user  \n",
       "date                                  \n",
       "2017-07-31 23:59:59          0davrik  \n",
       "2017-07-31 23:59:58        AliasHere  \n",
       "2017-07-31 23:59:57         Wyzzyddl  \n",
       "2017-07-31 23:59:57  KailaBrielleee_  \n",
       "2017-07-31 23:59:56   LoveRunandPray  "
      ]
     },
     "execution_count": 13,
     "metadata": {},
     "output_type": "execute_result"
    }
   ],
   "source": [
    "# data, parsed out and ready to analyze\n",
    "data_df.head()"
   ]
  },
  {
   "cell_type": "markdown",
   "metadata": {},
   "source": [
    "## 3. Describe your data\n",
    "\n",
    "Descriptive statistics can tell you a lot about your dataset with very little special effort and customization. Having a good set of descriptive statistics coded up that you always run on a new dataset can be helpful. Our team maintains [Gnip-Tweet-Evaluation](https://github.com/tw-ddis/Gnip-Tweet-Evaluation) a repository on GitHub that contains some tools to do quick evaluation of a Tweet corpus (that package is useful as a command line tool, and as a template for Tweet evaluation).\n",
    "\n",
    "I'm going to walk through a few different statistics that might help us understand the data better:\n",
    "- **What is generating the Tweets?**: One statistic that is common and useful in understanding a group of Tweets is understanding how many of them are Retweets or Quote Tweets. Another interesting data point can be looking at the application that created the Tweet itself. \n",
    "- **Common words**: What are the most common words in the corpus? Are they what we expected? Are they relevant to the topic of interest?\n",
    "- **Who is Tweeting**: Who are the users who Tweet the most? Are there spammy users that should be removed? Are they important users that we need to pay attention to?\n",
    "- **Where are they Tweeting from**: What's the distribution of Tweet locations? Is that surprising?\n",
    "- **Time series**: Are there spikes in the Tweet volume? When do they occur? What drives the spikes? For the sake of filtering out noise (or news stories that we don't care about) it may be important to identify spikes and filter out the Tweets that drive those spikes."
   ]
  },
  {
   "cell_type": "code",
   "execution_count": 14,
   "metadata": {
    "collapsed": true
   },
   "outputs": [],
   "source": [
    "# plotting library\n",
    "import matplotlib.pyplot as plt\n",
    "# pretty plots\n",
    "plt.style.use(\"bmh\")\n",
    "# better sizing for the notebook\n",
    "plt.rcParams['figure.figsize'] = (10, 5)\n",
    "%matplotlib inline"
   ]
  },
  {
   "cell_type": "markdown",
   "metadata": {},
   "source": [
    "## How are people Tweeting?\n",
    "\n",
    "Briefly, let's note that there are several different Twitter platform actions that can create a Tweet. \n",
    "- **original Tweet**: the user created a Tweet by typing it into the Tweet create box or otherwise hitting the `statuses/update` endpoint\n",
    "- **Retweet**: the user reposted the Tweet to their own timeline, without adding and comment\n",
    "- **Quote Tweet**: user added commentary to a reposted Tweet, essentially a Tweet with another Tweet embedded in it\n",
    "\n",
    "This is sometimes an important distinction: how much do Retweets or Quote Tweets represent the experience of the user reposting? Do we actually want Retweets in our particular dataset? Are they likely to tell us anything about users who are actually traveling (put it this way: if a user Retweets a story about being at an airport, how likely does it seem that they are at an airport)?"
   ]
  },
  {
   "cell_type": "code",
   "execution_count": 15,
   "metadata": {},
   "outputs": [
    {
     "data": {
      "text/html": [
       "<div>\n",
       "<style scoped>\n",
       "    .dataframe tbody tr th:only-of-type {\n",
       "        vertical-align: middle;\n",
       "    }\n",
       "\n",
       "    .dataframe tbody tr th {\n",
       "        vertical-align: top;\n",
       "    }\n",
       "\n",
       "    .dataframe thead th {\n",
       "        text-align: right;\n",
       "    }\n",
       "</style>\n",
       "<table border=\"1\" class=\"dataframe\">\n",
       "  <thead>\n",
       "    <tr style=\"text-align: right;\">\n",
       "      <th></th>\n",
       "      <th>id</th>\n",
       "    </tr>\n",
       "    <tr>\n",
       "      <th>type</th>\n",
       "      <th></th>\n",
       "    </tr>\n",
       "  </thead>\n",
       "  <tbody>\n",
       "    <tr>\n",
       "      <th>quote</th>\n",
       "      <td>16</td>\n",
       "    </tr>\n",
       "    <tr>\n",
       "      <th>retweet</th>\n",
       "      <td>298</td>\n",
       "    </tr>\n",
       "    <tr>\n",
       "      <th>tweet</th>\n",
       "      <td>186</td>\n",
       "    </tr>\n",
       "  </tbody>\n",
       "</table>\n",
       "</div>"
      ],
      "text/plain": [
       "          id\n",
       "type        \n",
       "quote     16\n",
       "retweet  298\n",
       "tweet    186"
      ]
     },
     "execution_count": 15,
     "metadata": {},
     "output_type": "execute_result"
    }
   ],
   "source": [
    "data_df[[\"type\",\"id\"]].groupby(\"type\").count()"
   ]
  },
  {
   "cell_type": "markdown",
   "metadata": {},
   "source": [
    "## Common words\n",
    "\n",
    "Definitions:\n",
    "- **corpus**: A collection of all of the documents that we are analyzing.\n",
    "- **document**: A single piece of writing, in our case, a single Tweet\n",
    "- **token**: Some characters from a document. Ideally, tokens would be common enough to occur in many documents, and have some semantic meaning--they provide us with a way to infer semantic correlation across documents.\n",
    "- **stop word**: A stop word (something like \"and\",\"but\",\"the\") is a very common word with little semantic meaning, and we often exclude these words from word counts or NLP models.\n",
    "\n",
    "__Tokenization__  \n",
    "In order to count common terms, first we have to define our terms. The easiest thing for me to count is a token--a single unit of characters in a Tweet. Often we try to define tokens so that a token is basically a word. \n",
    "\n",
    "\n",
    "I'm going to tokenize the Tweets (split each Tweet into a list of tokens) using the [nltk TweetTokenizer](http://www.nltk.org/api/nltk.tokenize.html#module-nltk.tokenize.casual), which splits on spaces and throws away some punctuation. We will also throw away any tokens that contain no letters, and throw away any tokens that are less than 3 characters long. These choices--how to define a token, and which tokens to count, are somewhat arbitrary, but depend greatly on how language is used in the dataset. For instance, many tokenizers would remove the symbols \"@\" and \"#\" as punctuation, but on Twitter, those symbols mean something (\"@Jack\" is potentially very different from \"jack\"), and should perhaps be preserved."
   ]
  },
  {
   "cell_type": "code",
   "execution_count": 16,
   "metadata": {
    "collapsed": true
   },
   "outputs": [],
   "source": [
    "from nltk.tokenize import TweetTokenizer\n",
    "from nltk.stem.porter import PorterStemmer\n",
    "\n",
    "def tweet_tokenizer(verbatim):\n",
    "    try:\n",
    "        tokenizer = TweetTokenizer()\n",
    "        all_tokens = tokenizer.tokenize(verbatim.lower())\n",
    "        # this line filters out all tokens that are entirely non-alphabetic characters\n",
    "        filtered_tokens = [t for t in all_tokens if t.islower()]\n",
    "        # filter out all tokens that are <=2 chars\n",
    "        filtered_tokens = [x for x in filtered_tokens if len(x)>2]\n",
    "    except IndexError:\n",
    "        filtered_tokens = []\n",
    "    return(filtered_tokens)"
   ]
  },
  {
   "cell_type": "markdown",
   "metadata": {},
   "source": [
    "__Counting__  \n",
    "\n",
    "Of course, we could simply create a dictionary of tokens in our corpus and iterate through the entire corpus of Tweets and adding \"1\" to a count every time we encounter a certain token, but it's more convenient to start using the scikit-learn API now and put our token counts into a format that's easy to use later. If you're unfamiliar with scikit-learn, it is an excellent Python machine learning framework that implements many common ML algorithms in a common building-block-able API.\n",
    "\n",
    "I am going to use [scikit-learn's CountVectorizer](http://scikit-learn.org/stable/modules/generated/sklearn.feature_extraction.text.CountVectorizer.html) to count tokens and turn the corpus into a document-term matrix. This makes it easy to count token frequencies. Note that the CountVectorizer allows us to count not only terms (\"tokens\") but n-grams (collections of tokens). For instance, if \"plane\" and \"trip\" are both tokens split on spaces, then explicit phrase \"plane trip\" might be a 2-gram in our corpus."
   ]
  },
  {
   "cell_type": "code",
   "execution_count": 17,
   "metadata": {
    "collapsed": true
   },
   "outputs": [],
   "source": [
    "# get the most common words in Tweets\n",
    "from sklearn.feature_extraction.text import CountVectorizer\n",
    "\n",
    "def get_frequent_terms(text_series, stop_words = None, ngram_range = (1,2)):\n",
    "    '''\n",
    "    Input: \n",
    "       text_series: a list or series of documents\n",
    "       stop_words: a list of stop_words to ignore, or the string 'english', \n",
    "                   which uses a built-in stop word list for the english language.\n",
    "                   By default, there are no stop words used\n",
    "       ngram_range: a single int, or a 2 tuple representing the range of ngrams to count.\n",
    "                    the default (1,2) counts 1- and 2- grams.\n",
    "    Returns:\n",
    "       a dataframe of counts, indexed by n-gram\n",
    "    '''\n",
    "    count_vectorizer = CountVectorizer(analyzer = \"word\",\n",
    "                                       tokenizer = tweet_tokenizer,\n",
    "                                       stop_words = stop_words, # try changing the stopword sets that we use.\n",
    "                                                                # notice that many top terms are words like \n",
    "                                                                # \"and\" and \"the\"\n",
    "                                       ngram_range = ngram_range # you can change this to count frequencies of \n",
    "                                                           # ngrams as well as single tokens\n",
    "                                                           # a range of (1,2) counts 1-grams (single tokens) and\n",
    "                                                           # 2-grams (2-token phrases)\n",
    "                                      )\n",
    "    term_freq_matrix = count_vectorizer.fit_transform(text_series)\n",
    "    terms = count_vectorizer.get_feature_names()\n",
    "    term_frequencies = term_freq_matrix.sum(axis = 0).tolist()[0]\n",
    "\n",
    "    term_freq_df = (pd.DataFrame(list(zip(terms, term_frequencies)), columns = [\"token\",\"count\"])\n",
    "                    .set_index(\"token\")\n",
    "                    .sort_values(\"count\",ascending = False))\n",
    "    return term_freq_df"
   ]
  },
  {
   "cell_type": "code",
   "execution_count": 18,
   "metadata": {
    "collapsed": true
   },
   "outputs": [],
   "source": [
    "term_freq_df = get_frequent_terms(data_df[\"text\"], \n",
    "                                  stop_words = \"english\") # stop_words = \"english\" removes words like 'and'"
   ]
  },
  {
   "cell_type": "code",
   "execution_count": 19,
   "metadata": {
    "scrolled": false
   },
   "outputs": [
    {
     "data": {
      "text/html": [
       "<div>\n",
       "<style scoped>\n",
       "    .dataframe tbody tr th:only-of-type {\n",
       "        vertical-align: middle;\n",
       "    }\n",
       "\n",
       "    .dataframe tbody tr th {\n",
       "        vertical-align: top;\n",
       "    }\n",
       "\n",
       "    .dataframe thead th {\n",
       "        text-align: right;\n",
       "    }\n",
       "</style>\n",
       "<table border=\"1\" class=\"dataframe\">\n",
       "  <thead>\n",
       "    <tr style=\"text-align: right;\">\n",
       "      <th></th>\n",
       "      <th>count</th>\n",
       "    </tr>\n",
       "    <tr>\n",
       "      <th>token</th>\n",
       "      <th></th>\n",
       "    </tr>\n",
       "  </thead>\n",
       "  <tbody>\n",
       "    <tr>\n",
       "      <th>airport</th>\n",
       "      <td>196</td>\n",
       "    </tr>\n",
       "    <tr>\n",
       "      <th>flying</th>\n",
       "      <td>123</td>\n",
       "    </tr>\n",
       "    <tr>\n",
       "      <th>plane</th>\n",
       "      <td>94</td>\n",
       "    </tr>\n",
       "    <tr>\n",
       "      <th>landed</th>\n",
       "      <td>48</td>\n",
       "    </tr>\n",
       "    <tr>\n",
       "      <th>home</th>\n",
       "      <td>31</td>\n",
       "    </tr>\n",
       "    <tr>\n",
       "      <th>trump</th>\n",
       "      <td>30</td>\n",
       "    </tr>\n",
       "    <tr>\n",
       "      <th>today</th>\n",
       "      <td>29</td>\n",
       "    </tr>\n",
       "    <tr>\n",
       "      <th>harry</th>\n",
       "      <td>27</td>\n",
       "    </tr>\n",
       "    <tr>\n",
       "      <th>just</th>\n",
       "      <td>27</td>\n",
       "    </tr>\n",
       "    <tr>\n",
       "      <th>flight</th>\n",
       "      <td>26</td>\n",
       "    </tr>\n",
       "    <tr>\n",
       "      <th>flying home</th>\n",
       "      <td>25</td>\n",
       "    </tr>\n",
       "    <tr>\n",
       "      <th>got</th>\n",
       "      <td>24</td>\n",
       "    </tr>\n",
       "    <tr>\n",
       "      <th>meeting</th>\n",
       "      <td>24</td>\n",
       "    </tr>\n",
       "    <tr>\n",
       "      <th>initial</th>\n",
       "      <td>23</td>\n",
       "    </tr>\n",
       "    <tr>\n",
       "      <th>dictated</th>\n",
       "      <td>23</td>\n",
       "    </tr>\n",
       "    <tr>\n",
       "      <th>statement</th>\n",
       "      <td>23</td>\n",
       "    </tr>\n",
       "    <tr>\n",
       "      <th>personally</th>\n",
       "      <td>22</td>\n",
       "    </tr>\n",
       "    <tr>\n",
       "      <th>personally dictated</th>\n",
       "      <td>22</td>\n",
       "    </tr>\n",
       "    <tr>\n",
       "      <th>trump personally</th>\n",
       "      <td>22</td>\n",
       "    </tr>\n",
       "    <tr>\n",
       "      <th>g20</th>\n",
       "      <td>22</td>\n",
       "    </tr>\n",
       "  </tbody>\n",
       "</table>\n",
       "</div>"
      ],
      "text/plain": [
       "                     count\n",
       "token                     \n",
       "airport                196\n",
       "flying                 123\n",
       "plane                   94\n",
       "landed                  48\n",
       "home                    31\n",
       "trump                   30\n",
       "today                   29\n",
       "harry                   27\n",
       "just                    27\n",
       "flight                  26\n",
       "flying home             25\n",
       "got                     24\n",
       "meeting                 24\n",
       "initial                 23\n",
       "dictated                23\n",
       "statement               23\n",
       "personally              22\n",
       "personally dictated     22\n",
       "trump personally        22\n",
       "g20                     22"
      ]
     },
     "execution_count": 19,
     "metadata": {},
     "output_type": "execute_result"
    }
   ],
   "source": [
    "term_freq_df.head(20)"
   ]
  },
  {
   "cell_type": "code",
   "execution_count": 20,
   "metadata": {},
   "outputs": [
    {
     "data": {
      "text/html": [
       "<div>\n",
       "<style scoped>\n",
       "    .dataframe tbody tr th:only-of-type {\n",
       "        vertical-align: middle;\n",
       "    }\n",
       "\n",
       "    .dataframe tbody tr th {\n",
       "        vertical-align: top;\n",
       "    }\n",
       "\n",
       "    .dataframe thead th {\n",
       "        text-align: right;\n",
       "    }\n",
       "</style>\n",
       "<table border=\"1\" class=\"dataframe\">\n",
       "  <thead>\n",
       "    <tr style=\"text-align: right;\">\n",
       "      <th></th>\n",
       "      <th>count</th>\n",
       "    </tr>\n",
       "    <tr>\n",
       "      <th>token</th>\n",
       "      <th></th>\n",
       "    </tr>\n",
       "  </thead>\n",
       "  <tbody>\n",
       "    <tr>\n",
       "      <th>flying broom</th>\n",
       "      <td>1</td>\n",
       "    </tr>\n",
       "    <tr>\n",
       "      <th>flying bullets</th>\n",
       "      <td>1</td>\n",
       "    </tr>\n",
       "    <tr>\n",
       "      <th>flying california</th>\n",
       "      <td>1</td>\n",
       "    </tr>\n",
       "    <tr>\n",
       "      <th>flying car</th>\n",
       "      <td>1</td>\n",
       "    </tr>\n",
       "    <tr>\n",
       "      <th>flying cases</th>\n",
       "      <td>1</td>\n",
       "    </tr>\n",
       "    <tr>\n",
       "      <th>flying centre</th>\n",
       "      <td>1</td>\n",
       "    </tr>\n",
       "    <tr>\n",
       "      <th>flying chalice</th>\n",
       "      <td>1</td>\n",
       "    </tr>\n",
       "    <tr>\n",
       "      <th>flying check</th>\n",
       "      <td>1</td>\n",
       "    </tr>\n",
       "    <tr>\n",
       "      <th>flying close</th>\n",
       "      <td>1</td>\n",
       "    </tr>\n",
       "    <tr>\n",
       "      <th>蕾阿蕾丶elahe https://t.co/y74vcswiuq</th>\n",
       "      <td>1</td>\n",
       "    </tr>\n",
       "  </tbody>\n",
       "</table>\n",
       "</div>"
      ],
      "text/plain": [
       "                                   count\n",
       "token                                   \n",
       "flying broom                           1\n",
       "flying bullets                         1\n",
       "flying california                      1\n",
       "flying car                             1\n",
       "flying cases                           1\n",
       "flying centre                          1\n",
       "flying chalice                         1\n",
       "flying check                           1\n",
       "flying close                           1\n",
       "蕾阿蕾丶elahe https://t.co/y74vcswiuq      1"
      ]
     },
     "execution_count": 20,
     "metadata": {},
     "output_type": "execute_result"
    }
   ],
   "source": [
    "term_freq_df.tail(10)"
   ]
  },
  {
   "cell_type": "markdown",
   "metadata": {
    "collapsed": true
   },
   "source": [
    "__Hand labeling__  \n",
    "\n",
    "Never underestimate the value of reading through your data. Actually look at the terms in the Tweets. Identify the Tweets that look like ones you are actually interested in.\n",
    "\n",
    "Consider doing something like searching for specific, relevant, phrases that you hope will show up in your data:"
   ]
  },
  {
   "cell_type": "code",
   "execution_count": 21,
   "metadata": {},
   "outputs": [
    {
     "data": {
      "text/html": [
       "<div>\n",
       "<style scoped>\n",
       "    .dataframe tbody tr th:only-of-type {\n",
       "        vertical-align: middle;\n",
       "    }\n",
       "\n",
       "    .dataframe tbody tr th {\n",
       "        vertical-align: top;\n",
       "    }\n",
       "\n",
       "    .dataframe thead th {\n",
       "        text-align: right;\n",
       "    }\n",
       "</style>\n",
       "<table border=\"1\" class=\"dataframe\">\n",
       "  <thead>\n",
       "    <tr style=\"text-align: right;\">\n",
       "      <th></th>\n",
       "      <th>at_mentions</th>\n",
       "      <th>bio</th>\n",
       "      <th>geo</th>\n",
       "      <th>hashtags</th>\n",
       "      <th>id</th>\n",
       "      <th>text</th>\n",
       "      <th>type</th>\n",
       "      <th>urls</th>\n",
       "      <th>user</th>\n",
       "    </tr>\n",
       "    <tr>\n",
       "      <th>date</th>\n",
       "      <th></th>\n",
       "      <th></th>\n",
       "      <th></th>\n",
       "      <th></th>\n",
       "      <th></th>\n",
       "      <th></th>\n",
       "      <th></th>\n",
       "      <th></th>\n",
       "      <th></th>\n",
       "    </tr>\n",
       "  </thead>\n",
       "  <tbody>\n",
       "    <tr>\n",
       "      <th>2017-07-31 23:58:33</th>\n",
       "      <td>[WilkinsHarley]</td>\n",
       "      <td>None</td>\n",
       "      <td>None</td>\n",
       "      <td>[]</td>\n",
       "      <td>892172664948871168</td>\n",
       "      <td>@WilkinsHarley We would love too! Unfortunatel...</td>\n",
       "      <td>tweet</td>\n",
       "      <td>[]</td>\n",
       "      <td>ChrisLeFrenchy</td>\n",
       "    </tr>\n",
       "  </tbody>\n",
       "</table>\n",
       "</div>"
      ],
      "text/plain": [
       "                         at_mentions   bio   geo hashtags                  id  \\\n",
       "date                                                                            \n",
       "2017-07-31 23:58:33  [WilkinsHarley]  None  None       []  892172664948871168   \n",
       "\n",
       "                                                                  text   type  \\\n",
       "date                                                                            \n",
       "2017-07-31 23:58:33  @WilkinsHarley We would love too! Unfortunatel...  tweet   \n",
       "\n",
       "                    urls            user  \n",
       "date                                      \n",
       "2017-07-31 23:58:33   []  ChrisLeFrenchy  "
      ]
     },
     "execution_count": 21,
     "metadata": {},
     "output_type": "execute_result"
    }
   ],
   "source": [
    "data_df[data_df['text'].str.contains('flying home')]"
   ]
  },
  {
   "cell_type": "markdown",
   "metadata": {},
   "source": [
    "Or simply reading a few random Tweets in your data."
   ]
  },
  {
   "cell_type": "code",
   "execution_count": 22,
   "metadata": {},
   "outputs": [
    {
     "data": {
      "text/html": [
       "<div>\n",
       "<style scoped>\n",
       "    .dataframe tbody tr th:only-of-type {\n",
       "        vertical-align: middle;\n",
       "    }\n",
       "\n",
       "    .dataframe tbody tr th {\n",
       "        vertical-align: top;\n",
       "    }\n",
       "\n",
       "    .dataframe thead th {\n",
       "        text-align: right;\n",
       "    }\n",
       "</style>\n",
       "<table border=\"1\" class=\"dataframe\">\n",
       "  <thead>\n",
       "    <tr style=\"text-align: right;\">\n",
       "      <th></th>\n",
       "      <th>text</th>\n",
       "    </tr>\n",
       "    <tr>\n",
       "      <th>date</th>\n",
       "      <th></th>\n",
       "    </tr>\n",
       "  </thead>\n",
       "  <tbody>\n",
       "    <tr>\n",
       "      <th>2017-07-31 23:59:29</th>\n",
       "      <td>@IFLYGLACIER I never complain about things like this, but Kalispell Airport security's reckless negligence was unacceptable and harmful behavior today.</td>\n",
       "    </tr>\n",
       "    <tr>\n",
       "      <th>2017-07-31 23:58:08</th>\n",
       "      <td>Gostei de um vídeo @YouTube https://t.co/4VXfrqw4yg Plane</td>\n",
       "    </tr>\n",
       "    <tr>\n",
       "      <th>2017-07-31 23:57:31</th>\n",
       "      <td>a whole 9 second of jeongyeon taking care of tzuyu's skirt from flying 😭💛 https://t.co/lSDVZYWfrR</td>\n",
       "    </tr>\n",
       "    <tr>\n",
       "      <th>2017-07-31 23:59:34</th>\n",
       "      <td>🔴INFOS #Algerie\\n\\nDeux pilotes d' Air Algérie sont suspendu pour avoir laisser un enfant manipuler un avion en vol https://t.co/wh8Fmk71MX https://t.co/KHSz2nkvSs</td>\n",
       "    </tr>\n",
       "    <tr>\n",
       "      <th>2017-07-31 23:57:04</th>\n",
       "      <td>RT: This is why I'm jumping out of a plane on 18/08 to raise funds to help @LIONAID #SaveLions. Please sponsor me at https://t.co/6GY8WSmEkz https://t.co/U27B8YEofX</td>\n",
       "    </tr>\n",
       "  </tbody>\n",
       "</table>\n",
       "</div>"
      ],
      "text/plain": [
       "                                                                                                                                                                                     text\n",
       "date                                                                                                                                                                                     \n",
       "2017-07-31 23:59:29  @IFLYGLACIER I never complain about things like this, but Kalispell Airport security's reckless negligence was unacceptable and harmful behavior today.             \n",
       "2017-07-31 23:58:08  Gostei de um vídeo @YouTube https://t.co/4VXfrqw4yg Plane                                                                                                           \n",
       "2017-07-31 23:57:31  a whole 9 second of jeongyeon taking care of tzuyu's skirt from flying 😭💛 https://t.co/lSDVZYWfrR                                                                   \n",
       "2017-07-31 23:59:34  🔴INFOS #Algerie\\n\\nDeux pilotes d' Air Algérie sont suspendu pour avoir laisser un enfant manipuler un avion en vol https://t.co/wh8Fmk71MX https://t.co/KHSz2nkvSs \n",
       "2017-07-31 23:57:04  RT: This is why I'm jumping out of a plane on 18/08 to raise funds to help @LIONAID #SaveLions. Please sponsor me at https://t.co/6GY8WSmEkz https://t.co/U27B8YEofX"
      ]
     },
     "execution_count": 22,
     "metadata": {},
     "output_type": "execute_result"
    }
   ],
   "source": [
    "pd.set_option('display.max_colwidth', -1)\n",
    "data_df[['text']].sample(5)"
   ]
  },
  {
   "cell_type": "markdown",
   "metadata": {},
   "source": [
    "A subsequent post will cover unsupervised clustering, which can help you group together Tweets to more easily make sense of them (you might group Tweets into 10 groups, and read a few Tweets from each group)."
   ]
  },
  {
   "cell_type": "markdown",
   "metadata": {},
   "source": [
    "## Who is Tweeting? Who is speaking?\n",
    "\n",
    "I'm going to use some Pandas tricks (`.groupby` and `.agg`) to find the most commonly Tweeting users in the dataset."
   ]
  },
  {
   "cell_type": "code",
   "execution_count": 23,
   "metadata": {
    "scrolled": false
   },
   "outputs": [
    {
     "data": {
      "text/html": [
       "<div>\n",
       "<style scoped>\n",
       "    .dataframe tbody tr th:only-of-type {\n",
       "        vertical-align: middle;\n",
       "    }\n",
       "\n",
       "    .dataframe tbody tr th {\n",
       "        vertical-align: top;\n",
       "    }\n",
       "\n",
       "    .dataframe thead th {\n",
       "        text-align: right;\n",
       "    }\n",
       "</style>\n",
       "<table border=\"1\" class=\"dataframe\">\n",
       "  <thead>\n",
       "    <tr style=\"text-align: right;\">\n",
       "      <th></th>\n",
       "      <th>tweet_count</th>\n",
       "      <th>bio</th>\n",
       "      <th>geo</th>\n",
       "    </tr>\n",
       "    <tr>\n",
       "      <th>user</th>\n",
       "      <th></th>\n",
       "      <th></th>\n",
       "      <th></th>\n",
       "    </tr>\n",
       "  </thead>\n",
       "  <tbody>\n",
       "    <tr>\n",
       "      <th>babyieturtle</th>\n",
       "      <td>6</td>\n",
       "      <td>ELF | YG/Rapper🌸</td>\n",
       "      <td>NaN</td>\n",
       "    </tr>\n",
       "    <tr>\n",
       "      <th>P3air</th>\n",
       "      <td>3</td>\n",
       "      <td>Worldwide insurance approved King Air Flight School and Turbo-Prop flight training (inflight and simulator) for initial, recurrent and transition pilots.</td>\n",
       "      <td>NaN</td>\n",
       "    </tr>\n",
       "    <tr>\n",
       "      <th>CollectedN</th>\n",
       "      <td>2</td>\n",
       "      <td>Various News, Videos, Opinions.</td>\n",
       "      <td>NaN</td>\n",
       "    </tr>\n",
       "    <tr>\n",
       "      <th>BloggerMe3</th>\n",
       "      <td>2</td>\n",
       "      <td>@Steveirons edits a blog site interested in the future shape of Australia. Get involved. Make a blog. Visit your hometown. http://www.pinterest.com/bloggerme</td>\n",
       "      <td>NaN</td>\n",
       "    </tr>\n",
       "    <tr>\n",
       "      <th>Moya_Monia</th>\n",
       "      <td>2</td>\n",
       "      <td>\"If you can do what you do best and be happy, you're further along in life than most people.\"</td>\n",
       "      <td>NaN</td>\n",
       "    </tr>\n",
       "    <tr>\n",
       "      <th>RPMSports18</th>\n",
       "      <td>2</td>\n",
       "      <td>24. University of South Alabama Alum. Just living life in a city below sea level. If you're reading this, then I probably popped up on your timeline.</td>\n",
       "      <td>NaN</td>\n",
       "    </tr>\n",
       "    <tr>\n",
       "      <th>heskiwi94x</th>\n",
       "      <td>2</td>\n",
       "      <td>An adult fangirl &amp;attended too many concerts. #OneDirection #Belieber #Mixer #Arianator #Lovatic #The1975 #Sheerio etc. #WWATourPhilly #OTRAPhilly. I met 1/4</td>\n",
       "      <td>NaN</td>\n",
       "    </tr>\n",
       "    <tr>\n",
       "      <th>___13Dec</th>\n",
       "      <td>2</td>\n",
       "      <td>⠀⠀⠀⠀ ⠀⠀⠀⠀ ⠀⠀⠀⠀⠀⠀⠀⠀ ♡ ⠀⠀⠀⠀ ⠀⠀⠀⠀ ⠀⠀⠀ ⠀⠀⠀⠀ ⠀⠀⠀⠀TS. H. The1975 Kodaline Coldplay LANY OW⠀ ⠀⠀⠀ Linkinpark Troye Sivan Singto&amp;Krist. PERAYA.⠀⠀⠀ ⠀⠀⠀⠀ ⠀⠀⠀⠀</td>\n",
       "      <td>NaN</td>\n",
       "    </tr>\n",
       "    <tr>\n",
       "      <th>billsplacehere</th>\n",
       "      <td>2</td>\n",
       "      <td>NaN</td>\n",
       "      <td>NaN</td>\n",
       "    </tr>\n",
       "    <tr>\n",
       "      <th>Spotiflynet</th>\n",
       "      <td>2</td>\n",
       "      <td>NaN</td>\n",
       "      <td>NaN</td>\n",
       "    </tr>\n",
       "    <tr>\n",
       "      <th>pdougmc</th>\n",
       "      <td>2</td>\n",
       "      <td>Retired, Interests: Gardening, photography, classical music, Astronomy, bicycling, Politics</td>\n",
       "      <td>NaN</td>\n",
       "    </tr>\n",
       "    <tr>\n",
       "      <th>DaveDuFourNBA</th>\n",
       "      <td>2</td>\n",
       "      <td>Basketball Coach, Host \"On the NBA with Dave DuFour\", Contributor at @RealGM &amp; @bballbreakdown\\n\\nCheck out my @Twitch channel https://www.twitch.tv/davedufournba</td>\n",
       "      <td>NaN</td>\n",
       "    </tr>\n",
       "    <tr>\n",
       "      <th>remypost</th>\n",
       "      <td>2</td>\n",
       "      <td>im remy | he/him | 22 | i love videogames | im the ana main ur parents warned you about | i also make games/art: @remyripple | WIPs/sketches: @scissorskid</td>\n",
       "      <td>NaN</td>\n",
       "    </tr>\n",
       "    <tr>\n",
       "      <th>EdyAntal</th>\n",
       "      <td>2</td>\n",
       "      <td>S A D  B O Y S</td>\n",
       "      <td>NaN</td>\n",
       "    </tr>\n",
       "    <tr>\n",
       "      <th>haneulvinkqq</th>\n",
       "      <td>1</td>\n",
       "      <td>안녕하세요 ~ 태국아미😁 🇹🇭แอคบ่น เพ้อ รีทุกอย่างที่ขวางหน้า ชอบหลายวง อยู่ด้อมอาร์มี่ รักบังทัน 🐯ชิปวีมิน🐥 *💸YOU NEVER เปย์ ALONE💸* Beyond The Scene - BTS</td>\n",
       "      <td>NaN</td>\n",
       "    </tr>\n",
       "  </tbody>\n",
       "</table>\n",
       "</div>"
      ],
      "text/plain": [
       "                tweet_count  \\\n",
       "user                          \n",
       "babyieturtle    6             \n",
       "P3air           3             \n",
       "CollectedN      2             \n",
       "BloggerMe3      2             \n",
       "Moya_Monia      2             \n",
       "RPMSports18     2             \n",
       "heskiwi94x      2             \n",
       "___13Dec        2             \n",
       "billsplacehere  2             \n",
       "Spotiflynet     2             \n",
       "pdougmc         2             \n",
       "DaveDuFourNBA   2             \n",
       "remypost        2             \n",
       "EdyAntal        2             \n",
       "haneulvinkqq    1             \n",
       "\n",
       "                                                                                                                                                                               bio  \\\n",
       "user                                                                                                                                                                                 \n",
       "babyieturtle    ELF | YG/Rapper🌸                                                                                                                                                     \n",
       "P3air           Worldwide insurance approved King Air Flight School and Turbo-Prop flight training (inflight and simulator) for initial, recurrent and transition pilots.            \n",
       "CollectedN      Various News, Videos, Opinions.                                                                                                                                      \n",
       "BloggerMe3      @Steveirons edits a blog site interested in the future shape of Australia. Get involved. Make a blog. Visit your hometown. http://www.pinterest.com/bloggerme        \n",
       "Moya_Monia      \"If you can do what you do best and be happy, you're further along in life than most people.\"                                                                        \n",
       "RPMSports18     24. University of South Alabama Alum. Just living life in a city below sea level. If you're reading this, then I probably popped up on your timeline.                \n",
       "heskiwi94x      An adult fangirl &attended too many concerts. #OneDirection #Belieber #Mixer #Arianator #Lovatic #The1975 #Sheerio etc. #WWATourPhilly #OTRAPhilly. I met 1/4        \n",
       "___13Dec        ⠀⠀⠀⠀ ⠀⠀⠀⠀ ⠀⠀⠀⠀⠀⠀⠀⠀ ♡ ⠀⠀⠀⠀ ⠀⠀⠀⠀ ⠀⠀⠀ ⠀⠀⠀⠀ ⠀⠀⠀⠀TS. H. The1975 Kodaline Coldplay LANY OW⠀ ⠀⠀⠀ Linkinpark Troye Sivan Singto&Krist. PERAYA.⠀⠀⠀ ⠀⠀⠀⠀ ⠀⠀⠀⠀                  \n",
       "billsplacehere  NaN                                                                                                                                                                  \n",
       "Spotiflynet     NaN                                                                                                                                                                  \n",
       "pdougmc         Retired, Interests: Gardening, photography, classical music, Astronomy, bicycling, Politics                                                                          \n",
       "DaveDuFourNBA   Basketball Coach, Host \"On the NBA with Dave DuFour\", Contributor at @RealGM & @bballbreakdown\\n\\nCheck out my @Twitch channel https://www.twitch.tv/davedufournba   \n",
       "remypost        im remy | he/him | 22 | i love videogames | im the ana main ur parents warned you about | i also make games/art: @remyripple | WIPs/sketches: @scissorskid           \n",
       "EdyAntal        S A D  B O Y S                                                                                                                                                       \n",
       "haneulvinkqq    안녕하세요 ~ 태국아미😁 🇹🇭แอคบ่น เพ้อ รีทุกอย่างที่ขวางหน้า ชอบหลายวง อยู่ด้อมอาร์มี่ รักบังทัน 🐯ชิปวีมิน🐥 *💸YOU NEVER เปย์ ALONE💸* Beyond The Scene - BTS                     \n",
       "\n",
       "                geo  \n",
       "user                 \n",
       "babyieturtle    NaN  \n",
       "P3air           NaN  \n",
       "CollectedN      NaN  \n",
       "BloggerMe3      NaN  \n",
       "Moya_Monia      NaN  \n",
       "RPMSports18     NaN  \n",
       "heskiwi94x      NaN  \n",
       "___13Dec        NaN  \n",
       "billsplacehere  NaN  \n",
       "Spotiflynet     NaN  \n",
       "pdougmc         NaN  \n",
       "DaveDuFourNBA   NaN  \n",
       "remypost        NaN  \n",
       "EdyAntal        NaN  \n",
       "haneulvinkqq    NaN  "
      ]
     },
     "execution_count": 23,
     "metadata": {},
     "output_type": "execute_result"
    }
   ],
   "source": [
    "(data_df[[\"user\",\"bio\",\"geo\",\"id\"]]\n",
    "    .groupby(\"user\") \n",
    "    .agg({\"id\":\"count\",\"bio\":\"first\",\"geo\":\"first\"}) \n",
    "    .sort_values(\"id\",ascending = False)\n",
    "    .rename(columns={'id':'tweet_count'})\n",
    ").head(15)    "
   ]
  },
  {
   "cell_type": "markdown",
   "metadata": {},
   "source": [
    "## Time series plot\n",
    "\n",
    "Doing time-series analysis with Twitter data will be covered in depth in a subsequent post, but it's worth introducing here.\n",
    "Another great way to get a broader picture of our data is to understand when people are Tweeting about these keywords. Now, recall that earlier we only grabbed a tiny sample of data, so those Tweets only cover a few minutes of activity--not a good way to build a time series. If you have access to the enterprise level API, you will be able to make an API call to the [counts endpoint](https://developer.twitter.com/en/docs/tweets/search/overview/enterprise) to retrieve a time series *without* needing to use many calls to retrieve all Tweets over a time period. Let's try it out.\n",
    "\n",
    "__Counts endpoint__   \n",
    "\n",
    "The counts endpoint has exactly the same API as the search endpoint, but instead of returning Tweets, it returns counts of Tweets. This is especially useful when you want to quickly assess a large dataset without retrieving a lot of data."
   ]
  },
  {
   "cell_type": "code",
   "execution_count": 24,
   "metadata": {},
   "outputs": [
    {
     "name": "stdout",
     "output_type": "stream",
     "text": [
      "Recall, our rule is: (flying OR plane OR landed OR airport OR takeoff)\n"
     ]
    }
   ],
   "source": [
    "# use the same \"_rule\" string\n",
    "print(\"Recall, our rule is: {}\".format(_rule_a))\n",
    "count_rule_a = gen_rule_payload(_rule_a,\n",
    "                        from_date=\"2017-07-01\",\n",
    "                        to_date=\"2017-08-01\",\n",
    "                        results_per_call=500, \n",
    "                        count_bucket=\"hour\")\n",
    "\n",
    "counts_list = collect_results(count_rule_a, max_results=24*31, result_stream_args=search_args)"
   ]
  },
  {
   "cell_type": "markdown",
   "metadata": {},
   "source": [
    "The resulting counts payload is a list of counts and UTC timestamps."
   ]
  },
  {
   "cell_type": "code",
   "execution_count": 25,
   "metadata": {},
   "outputs": [
    {
     "data": {
      "text/plain": [
       "[{'count': 9018, 'timePeriod': '201707312300'},\n",
       " {'count': 9900, 'timePeriod': '201707312200'},\n",
       " {'count': 9251, 'timePeriod': '201707312100'},\n",
       " {'count': 9829, 'timePeriod': '201707312000'},\n",
       " {'count': 9315, 'timePeriod': '201707311900'}]"
      ]
     },
     "execution_count": 25,
     "metadata": {},
     "output_type": "execute_result"
    }
   ],
   "source": [
    "counts_list[0:5]"
   ]
  },
  {
   "cell_type": "code",
   "execution_count": 26,
   "metadata": {},
   "outputs": [
    {
     "data": {
      "image/png": "[encoded data removed]",
      "text/plain": [
       "<matplotlib.figure.Figure at 0x1a14c22cc0>"
      ]
     },
     "metadata": {},
     "output_type": "display_data"
    }
   ],
   "source": [
    "# plot a timeseries of the Tweet counts\n",
    "tweet_counts_original = (pd.DataFrame(counts_list)\n",
    "     .assign(time_bucket = lambda x: pd.to_datetime(x[\"timePeriod\"]))\n",
    "     .drop(\"timePeriod\",axis = 1)\n",
    "     .set_index(\"time_bucket\")\n",
    "     .sort_index()\n",
    ")\n",
    "\n",
    "fig, axes = plt.subplots(nrows=1, ncols=2, figsize = (15,5))\n",
    "(tweet_counts_original\n",
    " .plot(ax=axes[0],\n",
    "       title = \"Count of Tweets per hour\",\n",
    "       legend = False));\n",
    "(tweet_counts_original\n",
    " .resample(\"D\")\n",
    " .sum()\n",
    " .plot(ax=axes[1],\n",
    "       title=\"Count of Tweets per day\",\n",
    "       legend=False));"
   ]
  },
  {
   "cell_type": "markdown",
   "metadata": {},
   "source": [
    "__How can we use this information to understand our search data?__  \n",
    "\n",
    "Consider the type of Tweets that we are looking for: we're looking for Tweets from people who are talking about air travel, hopefully people talking about their own experiences using air travel. It's pretty likely that air travel has a relatively regular pattern, with probably some big seasonal fluctuations (Thanksgiving?) and some daily fluctuations (people fly, for the most part during the day); it's unlikely that 2 or 3 times as many people fly on any given Monday vs the Mondays around it.\n",
    "\n",
    "We can use an intuition about what spikes mean in our data to either filter out high volume noise, or, in the case where spikes are what we are seeking out (say we wanted the audience for a movie release that happens on a specific day), zooming in on important time periods.\n",
    "\n",
    "Let's choose a few large spikes in this data and investigate further, then exclude that topic from our final Twitter dataset.\n",
    "\n",
    "\n",
    "__Note:__  \n",
    "If you don't have access to the counts API, you should still take a few small, time-boxed samples of data across the entire period of interest and doing the same exercise. It's harder to specifically target spikes, but it will help you get a broader sample of data."
   ]
  },
  {
   "cell_type": "code",
   "execution_count": 27,
   "metadata": {},
   "outputs": [
    {
     "data": {
      "text/html": [
       "<div>\n",
       "<style scoped>\n",
       "    .dataframe tbody tr th:only-of-type {\n",
       "        vertical-align: middle;\n",
       "    }\n",
       "\n",
       "    .dataframe tbody tr th {\n",
       "        vertical-align: top;\n",
       "    }\n",
       "\n",
       "    .dataframe thead th {\n",
       "        text-align: right;\n",
       "    }\n",
       "</style>\n",
       "<table border=\"1\" class=\"dataframe\">\n",
       "  <thead>\n",
       "    <tr style=\"text-align: right;\">\n",
       "      <th></th>\n",
       "      <th>count</th>\n",
       "    </tr>\n",
       "    <tr>\n",
       "      <th>time_bucket</th>\n",
       "      <th></th>\n",
       "    </tr>\n",
       "  </thead>\n",
       "  <tbody>\n",
       "    <tr>\n",
       "      <th>2017-07-17</th>\n",
       "      <td>334922</td>\n",
       "    </tr>\n",
       "    <tr>\n",
       "      <th>2017-07-26</th>\n",
       "      <td>301029</td>\n",
       "    </tr>\n",
       "    <tr>\n",
       "      <th>2017-07-14</th>\n",
       "      <td>286049</td>\n",
       "    </tr>\n",
       "    <tr>\n",
       "      <th>2017-07-18</th>\n",
       "      <td>276175</td>\n",
       "    </tr>\n",
       "    <tr>\n",
       "      <th>2017-07-29</th>\n",
       "      <td>259820</td>\n",
       "    </tr>\n",
       "  </tbody>\n",
       "</table>\n",
       "</div>"
      ],
      "text/plain": [
       "              count\n",
       "time_bucket        \n",
       "2017-07-17   334922\n",
       "2017-07-26   301029\n",
       "2017-07-14   286049\n",
       "2017-07-18   276175\n",
       "2017-07-29   259820"
      ]
     },
     "execution_count": 27,
     "metadata": {},
     "output_type": "execute_result"
    }
   ],
   "source": [
    "# you can look at the plots to get a sense of what the highest-volume time periods are, or just sort your dataframe\n",
    "(tweet_counts_original\n",
    " .resample(\"D\")\n",
    " .sum()\n",
    " .sort_values(by = \"count\", ascending = False)\n",
    " .head())"
   ]
  },
  {
   "cell_type": "code",
   "execution_count": 28,
   "metadata": {
    "collapsed": true
   },
   "outputs": [],
   "source": [
    "# let's look at the highest volume day\n",
    "spike_rule_717 = gen_rule_payload(_rule_a,\n",
    "                              from_date=\"2017-07-17\",\n",
    "                              to_date=\"2017-07-18\",\n",
    "                              results_per_call=500)\n",
    "\n",
    "spike_results_list_717 = collect_results(spike_rule_717, max_results=500, result_stream_args=search_args)"
   ]
  },
  {
   "cell_type": "code",
   "execution_count": 29,
   "metadata": {},
   "outputs": [
    {
     "data": {
      "text/html": [
       "<div>\n",
       "<style scoped>\n",
       "    .dataframe tbody tr th:only-of-type {\n",
       "        vertical-align: middle;\n",
       "    }\n",
       "\n",
       "    .dataframe tbody tr th {\n",
       "        vertical-align: top;\n",
       "    }\n",
       "\n",
       "    .dataframe thead th {\n",
       "        text-align: right;\n",
       "    }\n",
       "</style>\n",
       "<table border=\"1\" class=\"dataframe\">\n",
       "  <thead>\n",
       "    <tr style=\"text-align: right;\">\n",
       "      <th></th>\n",
       "      <th>count</th>\n",
       "    </tr>\n",
       "    <tr>\n",
       "      <th>token</th>\n",
       "      <th></th>\n",
       "    </tr>\n",
       "  </thead>\n",
       "  <tbody>\n",
       "    <tr>\n",
       "      <th>got</th>\n",
       "      <td>459</td>\n",
       "    </tr>\n",
       "    <tr>\n",
       "      <th>flying</th>\n",
       "      <td>273</td>\n",
       "    </tr>\n",
       "    <tr>\n",
       "      <th>security</th>\n",
       "      <td>228</td>\n",
       "    </tr>\n",
       "    <tr>\n",
       "      <th>instead</th>\n",
       "      <td>227</td>\n",
       "    </tr>\n",
       "    <tr>\n",
       "      <th>flying cars</th>\n",
       "      <td>225</td>\n",
       "    </tr>\n",
       "    <tr>\n",
       "      <th>cars</th>\n",
       "      <td>225</td>\n",
       "    </tr>\n",
       "    <tr>\n",
       "      <th>office</th>\n",
       "      <td>224</td>\n",
       "    </tr>\n",
       "    <tr>\n",
       "      <th>robot drowned</th>\n",
       "      <td>223</td>\n",
       "    </tr>\n",
       "    <tr>\n",
       "      <th>got suicidal</th>\n",
       "      <td>223</td>\n",
       "    </tr>\n",
       "    <tr>\n",
       "      <th>drowned promised</th>\n",
       "      <td>223</td>\n",
       "    </tr>\n",
       "    <tr>\n",
       "      <th>building got</th>\n",
       "      <td>223</td>\n",
       "    </tr>\n",
       "    <tr>\n",
       "      <th>building</th>\n",
       "      <td>223</td>\n",
       "    </tr>\n",
       "    <tr>\n",
       "      <th>office building</th>\n",
       "      <td>223</td>\n",
       "    </tr>\n",
       "    <tr>\n",
       "      <th>got security</th>\n",
       "      <td>223</td>\n",
       "    </tr>\n",
       "    <tr>\n",
       "      <th>robots</th>\n",
       "      <td>223</td>\n",
       "    </tr>\n",
       "    <tr>\n",
       "      <th>instead got</th>\n",
       "      <td>223</td>\n",
       "    </tr>\n",
       "    <tr>\n",
       "      <th>suicidal</th>\n",
       "      <td>223</td>\n",
       "    </tr>\n",
       "    <tr>\n",
       "      <th>drowned</th>\n",
       "      <td>223</td>\n",
       "    </tr>\n",
       "    <tr>\n",
       "      <th>suicidal robots</th>\n",
       "      <td>223</td>\n",
       "    </tr>\n",
       "    <tr>\n",
       "      <th>security robot</th>\n",
       "      <td>223</td>\n",
       "    </tr>\n",
       "  </tbody>\n",
       "</table>\n",
       "</div>"
      ],
      "text/plain": [
       "                  count\n",
       "token                  \n",
       "got               459  \n",
       "flying            273  \n",
       "security          228  \n",
       "instead           227  \n",
       "flying cars       225  \n",
       "cars              225  \n",
       "office            224  \n",
       "robot drowned     223  \n",
       "got suicidal      223  \n",
       "drowned promised  223  \n",
       "building got      223  \n",
       "building          223  \n",
       "office building   223  \n",
       "got security      223  \n",
       "robots            223  \n",
       "instead got       223  \n",
       "suicidal          223  \n",
       "drowned           223  \n",
       "suicidal robots   223  \n",
       "security robot    223  "
      ]
     },
     "execution_count": 29,
     "metadata": {},
     "output_type": "execute_result"
    }
   ],
   "source": [
    "# what are these Tweets about?\n",
    "get_frequent_terms([x.all_text for x in spike_results_list_717],\n",
    "                   stop_words = \"english\").head(20)"
   ]
  },
  {
   "cell_type": "code",
   "execution_count": 30,
   "metadata": {},
   "outputs": [
    {
     "data": {
      "text/plain": [
       "['Our D.C. office building got a security robot. It drowned itself.\\n\\nWe were promised flying cars, instead we got suicidal robots. https://t.co/rGLTAWZMjn',\n",
       " 'Our D.C. office building got a security robot. It drowned itself.\\n\\nWe were promised flying cars, instead we got suicidal robots. https://t.co/rGLTAWZMjn',\n",
       " 'Our D.C. office building got a security robot. It drowned itself.\\n\\nWe were promised flying cars, instead we got suicidal robots. https://t.co/rGLTAWZMjn',\n",
       " 'Our D.C. office building got a security robot. It drowned itself.\\n\\nWe were promised flying cars, instead we got suicidal robots. https://t.co/rGLTAWZMjn',\n",
       " 'Our D.C. office building got a security robot. It drowned itself.\\n\\nWe were promised flying cars, instead we got suicidal robots. https://t.co/rGLTAWZMjn',\n",
       " 'Our D.C. office building got a security robot. It drowned itself.\\n\\nWe were promised flying cars, instead we got suicidal robots. https://t.co/rGLTAWZMjn',\n",
       " 'Our D.C. office building got a security robot. It drowned itself.\\n\\nWe were promised flying cars, instead we got suicidal robots. https://t.co/rGLTAWZMjn',\n",
       " 'Our D.C. office building got a security robot. It drowned itself.\\n\\nWe were promised flying cars, instead we got suicidal robots. https://t.co/rGLTAWZMjn',\n",
       " 'Our D.C. office building got a security robot. It drowned itself.\\n\\nWe were promised flying cars, instead we got suicidal robots. https://t.co/rGLTAWZMjn',\n",
       " 'Our D.C. office building got a security robot. It drowned itself.\\n\\nWe were promised flying cars, instead we got suicidal robots. https://t.co/rGLTAWZMjn']"
      ]
     },
     "execution_count": 30,
     "metadata": {},
     "output_type": "execute_result"
    }
   ],
   "source": [
    "# It's sometimes important to get the context of a full Tweet\n",
    "[x.all_text for x in spike_results_list_717 if \"drowned\" in x.all_text.lower()][0:10]"
   ]
  },
  {
   "cell_type": "code",
   "execution_count": 31,
   "metadata": {
    "collapsed": true
   },
   "outputs": [],
   "source": [
    "# let's look at the highest volume day\n",
    "spike_rule_726 = gen_rule_payload(_rule_a,\n",
    "                              from_date=\"2017-07-26\",\n",
    "                              to_date=\"2017-07-27\",\n",
    "                              results_per_call=500)\n",
    "\n",
    "spike_results_list_726 = collect_results(spike_rule_726, max_results=500, result_stream_args=search_args)"
   ]
  },
  {
   "cell_type": "code",
   "execution_count": 32,
   "metadata": {},
   "outputs": [
    {
     "data": {
      "text/html": [
       "<div>\n",
       "<style scoped>\n",
       "    .dataframe tbody tr th:only-of-type {\n",
       "        vertical-align: middle;\n",
       "    }\n",
       "\n",
       "    .dataframe tbody tr th {\n",
       "        vertical-align: top;\n",
       "    }\n",
       "\n",
       "    .dataframe thead th {\n",
       "        text-align: right;\n",
       "    }\n",
       "</style>\n",
       "<table border=\"1\" class=\"dataframe\">\n",
       "  <thead>\n",
       "    <tr style=\"text-align: right;\">\n",
       "      <th></th>\n",
       "      <th>count</th>\n",
       "    </tr>\n",
       "    <tr>\n",
       "      <th>token</th>\n",
       "      <th></th>\n",
       "    </tr>\n",
       "  </thead>\n",
       "  <tbody>\n",
       "    <tr>\n",
       "      <th>airport</th>\n",
       "      <td>264</td>\n",
       "    </tr>\n",
       "    <tr>\n",
       "      <th>plane</th>\n",
       "      <td>124</td>\n",
       "    </tr>\n",
       "    <tr>\n",
       "      <th>gimpo</th>\n",
       "      <td>111</td>\n",
       "    </tr>\n",
       "    <tr>\n",
       "      <th>gimpo airport</th>\n",
       "      <td>106</td>\n",
       "    </tr>\n",
       "    <tr>\n",
       "      <th>tokyo</th>\n",
       "      <td>69</td>\n",
       "    </tr>\n",
       "    <tr>\n",
       "      <th>flying</th>\n",
       "      <td>68</td>\n",
       "    </tr>\n",
       "    <tr>\n",
       "      <th>airport tokyo</th>\n",
       "      <td>59</td>\n",
       "    </tr>\n",
       "    <tr>\n",
       "      <th>preview</th>\n",
       "      <td>58</td>\n",
       "    </tr>\n",
       "    <tr>\n",
       "      <th>crash</th>\n",
       "      <td>56</td>\n",
       "    </tr>\n",
       "    <tr>\n",
       "      <th>sooyoung</th>\n",
       "      <td>56</td>\n",
       "    </tr>\n",
       "    <tr>\n",
       "      <th>seohyun</th>\n",
       "      <td>55</td>\n",
       "    </tr>\n",
       "    <tr>\n",
       "      <th>small</th>\n",
       "      <td>49</td>\n",
       "    </tr>\n",
       "    <tr>\n",
       "      <th>utah</th>\n",
       "      <td>49</td>\n",
       "    </tr>\n",
       "    <tr>\n",
       "      <th>small plane</th>\n",
       "      <td>48</td>\n",
       "    </tr>\n",
       "    <tr>\n",
       "      <th>crash utah</th>\n",
       "      <td>46</td>\n",
       "    </tr>\n",
       "    <tr>\n",
       "      <th>highway</th>\n",
       "      <td>46</td>\n",
       "    </tr>\n",
       "    <tr>\n",
       "      <th>#news</th>\n",
       "      <td>46</td>\n",
       "    </tr>\n",
       "    <tr>\n",
       "      <th>die</th>\n",
       "      <td>45</td>\n",
       "    </tr>\n",
       "    <tr>\n",
       "      <th>highway https://t.co/sizpfmclq7</th>\n",
       "      <td>45</td>\n",
       "    </tr>\n",
       "    <tr>\n",
       "      <th>#news #almalki</th>\n",
       "      <td>45</td>\n",
       "    </tr>\n",
       "  </tbody>\n",
       "</table>\n",
       "</div>"
      ],
      "text/plain": [
       "                                 count\n",
       "token                                 \n",
       "airport                          264  \n",
       "plane                            124  \n",
       "gimpo                            111  \n",
       "gimpo airport                    106  \n",
       "tokyo                            69   \n",
       "flying                           68   \n",
       "airport tokyo                    59   \n",
       "preview                          58   \n",
       "crash                            56   \n",
       "sooyoung                         56   \n",
       "seohyun                          55   \n",
       "small                            49   \n",
       "utah                             49   \n",
       "small plane                      48   \n",
       "crash utah                       46   \n",
       "highway                          46   \n",
       "#news                            46   \n",
       "die                              45   \n",
       "highway https://t.co/sizpfmclq7  45   \n",
       "#news #almalki                   45   "
      ]
     },
     "execution_count": 32,
     "metadata": {},
     "output_type": "execute_result"
    }
   ],
   "source": [
    "get_frequent_terms([x.all_text for x in spike_results_list_726], stop_words = \"english\").head(20)"
   ]
  },
  {
   "cell_type": "code",
   "execution_count": 33,
   "metadata": {},
   "outputs": [
    {
     "data": {
      "text/plain": [
       "[('[HD PIC] 170726 Gimpo Airport - Our boys Eunhyuk, Leeteuk and Donghae looking so good in their airport fashion! [3P] (Cr:As Tagged) https://t.co/tKCT7QApsh',\n",
       "  'retweet'),\n",
       " ('170726 Gimpo Airport #Donghae [卡卡_kaka_KAKA] https://t.co/UIAgC2SroA',\n",
       "  'retweet'),\n",
       " ('[Preview] 170727 Seohyun - Gimpo airport by seohyuntwunion https://t.co/klNNEAf5Ko',\n",
       "  'retweet'),\n",
       " ('[Preview] 170727 Sooyoung - Gimpo airport by jtt_muk https://t.co/uKrcF8lmNe',\n",
       "  'retweet'),\n",
       " ('[Preview] 170727 Sooyoung - Gimpo airport by jtt_muk https://t.co/uKrcF8lmNe',\n",
       "  'retweet'),\n",
       " ('[Preview] 170727 Seohyun - Gimpo airport by mr_zhang https://t.co/5gAgwJZudT',\n",
       "  'retweet'),\n",
       " ('[PRESS] 170726 Mark at Gimpo airport departures to Tokyo, Japan (2) https://t.co/urWfCgwWJZ',\n",
       "  'tweet'),\n",
       " ('170726 Gimpo airport to Tokyo - Taeyong press pics #NCT127 #태용 https://t.co/qV3jfRdFuy',\n",
       "  'retweet'),\n",
       " ('170727 Heechul, Shindong at Gimpo Airport going to Japan for #SMTOWNLIVEinTokyo https://t.co/YWHSgX1XZW',\n",
       "  'retweet'),\n",
       " ('170727 Gimpo Airport\\n\\n#KimHeechul #Heechul #김희철 #희철\\n\\n[特纸SAMA和希大人一起niconiconi] https://t.co/OJgH9EKSSC',\n",
       "  'retweet')]"
      ]
     },
     "execution_count": 33,
     "metadata": {},
     "output_type": "execute_result"
    }
   ],
   "source": [
    "[(x.all_text, x.tweet_type) for x in spike_results_list_726 if \"gimpo\" in x.all_text.lower()][0:10]"
   ]
  },
  {
   "cell_type": "code",
   "execution_count": 34,
   "metadata": {},
   "outputs": [
    {
     "data": {
      "text/plain": [
       "[('#News by #almalki : Four aboard small plane die in crash on Utah highway https://t.co/sizPfmclq7',\n",
       "  'retweet'),\n",
       " ('#News by #almalki : Four aboard small plane die in crash on Utah highway https://t.co/sizPfmclq7',\n",
       "  'retweet'),\n",
       " ('#News by #almalki : Four aboard small plane die in crash on Utah highway https://t.co/sizPfmclq7',\n",
       "  'retweet'),\n",
       " ('#News by #almalki : Four aboard small plane die in crash on Utah highway https://t.co/sizPfmclq7',\n",
       "  'retweet'),\n",
       " ('#News by #almalki : Four aboard small plane die in crash on Utah highway https://t.co/sizPfmclq7',\n",
       "  'retweet'),\n",
       " ('#News by #almalki : Four aboard small plane die in crash on Utah highway https://t.co/sizPfmclq7',\n",
       "  'retweet'),\n",
       " ('#News by #almalki : Four aboard small plane die in crash on Utah highway https://t.co/sizPfmclq7',\n",
       "  'retweet'),\n",
       " ('#News by #almalki : Four aboard small plane die in crash on Utah highway https://t.co/sizPfmclq7',\n",
       "  'retweet'),\n",
       " ('#News by #almalki : Four aboard small plane die in crash on Utah highway https://t.co/sizPfmclq7',\n",
       "  'retweet'),\n",
       " ('#News by #almalki : Four aboard small plane die in crash on Utah highway https://t.co/sizPfmclq7',\n",
       "  'retweet')]"
      ]
     },
     "execution_count": 34,
     "metadata": {},
     "output_type": "execute_result"
    }
   ],
   "source": [
    "[(x.all_text, x.tweet_type) for x in spike_results_list_726 if \"utah\" in x.all_text.lower()][0:10]"
   ]
  },
  {
   "cell_type": "markdown",
   "metadata": {},
   "source": [
    "## 3. Iterate\n",
    "\n",
    "## Now that we understand what we're matching on\n",
    "\n",
    "- **Exclusions**: The most important part of refining rules is often excluding Tweets that are irrelevant. Earlier, we learned that the Search API provides a negation operator (the \"`-`\" operator), which you should use for exclusions. Use the \"`-`\" operator to exclude terms that show up in irrelevant spikes, to exclude certain kinds of Tweets (say, exclude Retweets), or anything else that might mark a Tweet as irrelevant (spammy hashtags, news articles that aren't interesting, etc).\n",
    "\n",
    "- **Advanced operators**: So far we have only covered token matching operators. There are more advanced operators, which can be used to match different aspects of a Tweet (is is a Retweet? does it contain an image?) or words in different parts of the payload (does the string \"cnn\" appear in a link? does the phrase \"soccer mom\" appear in the bio?). We'll show a few examples of using those operators in this section--for a complete list, read our [operator documentation](https://developer.twitter.com/en/docs/tweets/rules-and-filtering/overview/premium-operators).\n"
   ]
  },
  {
   "cell_type": "code",
   "execution_count": 35,
   "metadata": {
    "collapsed": true
   },
   "outputs": [],
   "source": [
    "# expand based on what you see (these are top terms that didn't seem relevant, look at the frequent terms we saw)\n",
    "_rule_b = \"\"\"\n",
    "(plane OR landed OR airport OR takeoff OR #wheelsup)\n",
    "-is:retweet\n",
    "-trump\n",
    "-harry\n",
    "-drowned\n",
    "-g20\n",
    "-lawyer\n",
    "-gimpo\n",
    "-fuck\n",
    "\"\"\"\n",
    "\n",
    "rule_b = gen_rule_payload(_rule_b,\n",
    "                          from_date=\"2017-07-01\",\n",
    "                          to_date=\"2017-08-01\",\n",
    "                          results_per_call=500)\n",
    "\n",
    "results_list = collect_results(rule_b, max_results=500, result_stream_args=search_args)"
   ]
  },
  {
   "cell_type": "code",
   "execution_count": 36,
   "metadata": {},
   "outputs": [
    {
     "data": {
      "text/html": [
       "<div>\n",
       "<style scoped>\n",
       "    .dataframe tbody tr th:only-of-type {\n",
       "        vertical-align: middle;\n",
       "    }\n",
       "\n",
       "    .dataframe tbody tr th {\n",
       "        vertical-align: top;\n",
       "    }\n",
       "\n",
       "    .dataframe thead th {\n",
       "        text-align: right;\n",
       "    }\n",
       "</style>\n",
       "<table border=\"1\" class=\"dataframe\">\n",
       "  <thead>\n",
       "    <tr style=\"text-align: right;\">\n",
       "      <th></th>\n",
       "      <th>count</th>\n",
       "    </tr>\n",
       "    <tr>\n",
       "      <th>token</th>\n",
       "      <th></th>\n",
       "    </tr>\n",
       "  </thead>\n",
       "  <tbody>\n",
       "    <tr>\n",
       "      <th>international airport</th>\n",
       "      <td>26</td>\n",
       "    </tr>\n",
       "    <tr>\n",
       "      <th>just landed</th>\n",
       "      <td>11</td>\n",
       "    </tr>\n",
       "    <tr>\n",
       "      <th>airport worker</th>\n",
       "      <td>10</td>\n",
       "    </tr>\n",
       "    <tr>\n",
       "      <th>easyjet passenger</th>\n",
       "      <td>10</td>\n",
       "    </tr>\n",
       "    <tr>\n",
       "      <th>airport security</th>\n",
       "      <td>9</td>\n",
       "    </tr>\n",
       "    <tr>\n",
       "      <th>plane crashes</th>\n",
       "      <td>8</td>\n",
       "    </tr>\n",
       "    <tr>\n",
       "      <th>plane crash</th>\n",
       "      <td>8</td>\n",
       "    </tr>\n",
       "    <tr>\n",
       "      <th>punches easyjet passenger</th>\n",
       "      <td>7</td>\n",
       "    </tr>\n",
       "    <tr>\n",
       "      <th>punches easyjet</th>\n",
       "      <td>7</td>\n",
       "    </tr>\n",
       "    <tr>\n",
       "      <th>passenger holding</th>\n",
       "      <td>7</td>\n",
       "    </tr>\n",
       "    <tr>\n",
       "      <th>crashes mississippi killing</th>\n",
       "      <td>6</td>\n",
       "    </tr>\n",
       "    <tr>\n",
       "      <th>mississippi killing</th>\n",
       "      <td>6</td>\n",
       "    </tr>\n",
       "    <tr>\n",
       "      <th>crashes mississippi</th>\n",
       "      <td>6</td>\n",
       "    </tr>\n",
       "    <tr>\n",
       "      <th>military plane crashes</th>\n",
       "      <td>6</td>\n",
       "    </tr>\n",
       "    <tr>\n",
       "      <th>plane crashes mississippi</th>\n",
       "      <td>6</td>\n",
       "    </tr>\n",
       "    <tr>\n",
       "      <th>mississippi killing people</th>\n",
       "      <td>6</td>\n",
       "    </tr>\n",
       "    <tr>\n",
       "      <th>military plane</th>\n",
       "      <td>6</td>\n",
       "    </tr>\n",
       "    <tr>\n",
       "      <th>killing people</th>\n",
       "      <td>6</td>\n",
       "    </tr>\n",
       "    <tr>\n",
       "      <th>plane ride</th>\n",
       "      <td>5</td>\n",
       "    </tr>\n",
       "    <tr>\n",
       "      <th>new york</th>\n",
       "      <td>5</td>\n",
       "    </tr>\n",
       "  </tbody>\n",
       "</table>\n",
       "</div>"
      ],
      "text/plain": [
       "                             count\n",
       "token                             \n",
       "international airport        26   \n",
       "just landed                  11   \n",
       "airport worker               10   \n",
       "easyjet passenger            10   \n",
       "airport security             9    \n",
       "plane crashes                8    \n",
       "plane crash                  8    \n",
       "punches easyjet passenger    7    \n",
       "punches easyjet              7    \n",
       "passenger holding            7    \n",
       "crashes mississippi killing  6    \n",
       "mississippi killing          6    \n",
       "crashes mississippi          6    \n",
       "military plane crashes       6    \n",
       "plane crashes mississippi    6    \n",
       "mississippi killing people   6    \n",
       "military plane               6    \n",
       "killing people               6    \n",
       "plane ride                   5    \n",
       "new york                     5    "
      ]
     },
     "execution_count": 36,
     "metadata": {},
     "output_type": "execute_result"
    }
   ],
   "source": [
    "# look at frequent terms again\n",
    "get_frequent_terms([x.all_text for x in results_list], stop_words = \"english\", ngram_range = (2,3)).head(20)"
   ]
  },
  {
   "cell_type": "code",
   "execution_count": 37,
   "metadata": {},
   "outputs": [
    {
     "name": "stdout",
     "output_type": "stream",
     "text": [
      "Recall, our rule is: \n",
      "(plane OR landed OR airport OR takeoff OR #wheelsup)\n",
      "-is:retweet\n",
      "-trump\n",
      "-harry\n",
      "-drowned\n",
      "-g20\n",
      "-lawyer\n",
      "-gimpo\n",
      "-fuck\n",
      "\n"
     ]
    },
    {
     "data": {
      "image/png": "[encoded data removed]",
      "text/plain": [
       "<matplotlib.figure.Figure at 0x1a14c22ba8>"
      ]
     },
     "metadata": {},
     "output_type": "display_data"
    }
   ],
   "source": [
    "# use the same \"_rule\" string\n",
    "print(\"Recall, our rule is: {}\".format(_rule_b))\n",
    "count_rule_b = gen_rule_payload(_rule_b,\n",
    "                        from_date=\"2017-07-01\",\n",
    "                        to_date=\"2017-08-01\",\n",
    "                        count_bucket=\"hour\")\n",
    "\n",
    "counts_list = collect_results(count_rule_b, max_results=24*31, result_stream_args=search_args)\n",
    "\n",
    "# plot a timeseries of the Tweet counts\n",
    "tweet_counts = (pd.DataFrame(counts_list)\n",
    "                .assign(time_bucket = lambda x: pd.to_datetime(x[\"timePeriod\"]))\n",
    "                .drop(\"timePeriod\",axis = 1)\n",
    "                .set_index(\"time_bucket\")\n",
    "                .sort_index())\n",
    "\n",
    "fig, axes = plt.subplots(nrows=1, ncols=2, figsize = (15,5))\n",
    "(tweet_counts\n",
    " .plot(ax=axes[0],\n",
    "       title = \"Count of Tweets per hour\", legend = False));\n",
    "(tweet_counts\n",
    " .resample(\"D\")\n",
    " .sum()\n",
    " .plot(ax=axes[1],\n",
    "       title=\"Count of Tweets per day\",\n",
    "       legend=False));"
   ]
  },
  {
   "cell_type": "markdown",
   "metadata": {},
   "source": [
    "## Look at that regular timeseries!\n",
    "\n",
    "Remember when we noted that the Tweet timeseries around flying is unlikely to have big, irregular spikes? It seems like we got rid of most of them, save one or two. Let's look into those last spikes and exclude those too."
   ]
  },
  {
   "cell_type": "code",
   "execution_count": 38,
   "metadata": {
    "collapsed": true
   },
   "outputs": [],
   "source": [
    "# let's look at the highest volume day\n",
    "spike_rule_711 = gen_rule_payload(_rule_b,\n",
    "                                  from_date=\"2017-07-11\",\n",
    "                                  to_date=\"2017-07-12\",\n",
    "                                  ) \n",
    "\n",
    "# force results to evaluate (this step actually makes the API calls)\n",
    "spike_results_list_711 = collect_results(spike_rule_711, max_results=500, result_stream_args=search_args)"
   ]
  },
  {
   "cell_type": "code",
   "execution_count": 39,
   "metadata": {},
   "outputs": [
    {
     "data": {
      "text/html": [
       "<div>\n",
       "<style scoped>\n",
       "    .dataframe tbody tr th:only-of-type {\n",
       "        vertical-align: middle;\n",
       "    }\n",
       "\n",
       "    .dataframe tbody tr th {\n",
       "        vertical-align: top;\n",
       "    }\n",
       "\n",
       "    .dataframe thead th {\n",
       "        text-align: right;\n",
       "    }\n",
       "</style>\n",
       "<table border=\"1\" class=\"dataframe\">\n",
       "  <thead>\n",
       "    <tr style=\"text-align: right;\">\n",
       "      <th></th>\n",
       "      <th>count</th>\n",
       "    </tr>\n",
       "    <tr>\n",
       "      <th>token</th>\n",
       "      <th></th>\n",
       "    </tr>\n",
       "  </thead>\n",
       "  <tbody>\n",
       "    <tr>\n",
       "      <th>plane</th>\n",
       "      <td>244</td>\n",
       "    </tr>\n",
       "    <tr>\n",
       "      <th>airport</th>\n",
       "      <td>195</td>\n",
       "    </tr>\n",
       "    <tr>\n",
       "      <th>crash</th>\n",
       "      <td>62</td>\n",
       "    </tr>\n",
       "    <tr>\n",
       "      <th>landed</th>\n",
       "      <td>48</td>\n",
       "    </tr>\n",
       "    <tr>\n",
       "      <th>mississippi</th>\n",
       "      <td>42</td>\n",
       "    </tr>\n",
       "    <tr>\n",
       "      <th>marine</th>\n",
       "      <td>39</td>\n",
       "    </tr>\n",
       "    <tr>\n",
       "      <th>international</th>\n",
       "      <td>38</td>\n",
       "    </tr>\n",
       "    <tr>\n",
       "      <th>i'm</th>\n",
       "      <td>37</td>\n",
       "    </tr>\n",
       "    <tr>\n",
       "      <th>killed</th>\n",
       "      <td>35</td>\n",
       "    </tr>\n",
       "    <tr>\n",
       "      <th>vermont</th>\n",
       "      <td>29</td>\n",
       "    </tr>\n",
       "    <tr>\n",
       "      <th>taxiway</th>\n",
       "      <td>25</td>\n",
       "    </tr>\n",
       "    <tr>\n",
       "      <th>flight</th>\n",
       "      <td>23</td>\n",
       "    </tr>\n",
       "    <tr>\n",
       "      <th>just</th>\n",
       "      <td>22</td>\n",
       "    </tr>\n",
       "    <tr>\n",
       "      <th>san</th>\n",
       "      <td>21</td>\n",
       "    </tr>\n",
       "    <tr>\n",
       "      <th>lands</th>\n",
       "      <td>19</td>\n",
       "    </tr>\n",
       "  </tbody>\n",
       "</table>\n",
       "</div>"
      ],
      "text/plain": [
       "               count\n",
       "token               \n",
       "plane          244  \n",
       "airport        195  \n",
       "crash          62   \n",
       "landed         48   \n",
       "mississippi    42   \n",
       "marine         39   \n",
       "international  38   \n",
       "i'm            37   \n",
       "killed         35   \n",
       "vermont        29   \n",
       "taxiway        25   \n",
       "flight         23   \n",
       "just           22   \n",
       "san            21   \n",
       "lands          19   "
      ]
     },
     "execution_count": 39,
     "metadata": {},
     "output_type": "execute_result"
    }
   ],
   "source": [
    "get_frequent_terms([x.all_text for x in spike_results_list_711],\n",
    "                   stop_words=\"english\",\n",
    "                   ngram_range = (1,1)).head(15)"
   ]
  },
  {
   "cell_type": "markdown",
   "metadata": {
    "collapsed": true
   },
   "source": [
    "## Frequent terms vs frequent \"n-grams\"\n",
    "\n",
    "We've talked about using frequent terms to identify what a corpus of Tweets is about, but I want to mention frequent \"n-grams\" as a slightly more sophisticated alternative.\n",
    "\n",
    "**n-gram**: a sequence of *n* tokens from a document\n",
    "\n",
    "Using frequent n-grams, you might be able to identify when words show together, in the same sequence surprisingly often - potentially indicating spam, promotional material, memes, lyrics, or reposted content. Pay attention to words that appear together, and you can exclude an n-gram by excluding an \"exact phrase\" from your Search query."
   ]
  },
  {
   "cell_type": "code",
   "execution_count": 40,
   "metadata": {},
   "outputs": [
    {
     "data": {
      "text/html": [
       "<div>\n",
       "<style scoped>\n",
       "    .dataframe tbody tr th:only-of-type {\n",
       "        vertical-align: middle;\n",
       "    }\n",
       "\n",
       "    .dataframe tbody tr th {\n",
       "        vertical-align: top;\n",
       "    }\n",
       "\n",
       "    .dataframe thead th {\n",
       "        text-align: right;\n",
       "    }\n",
       "</style>\n",
       "<table border=\"1\" class=\"dataframe\">\n",
       "  <thead>\n",
       "    <tr style=\"text-align: right;\">\n",
       "      <th></th>\n",
       "      <th>count</th>\n",
       "    </tr>\n",
       "    <tr>\n",
       "      <th>token</th>\n",
       "      <th></th>\n",
       "    </tr>\n",
       "  </thead>\n",
       "  <tbody>\n",
       "    <tr>\n",
       "      <th>plane crash</th>\n",
       "      <td>58</td>\n",
       "    </tr>\n",
       "    <tr>\n",
       "      <th>international airport</th>\n",
       "      <td>37</td>\n",
       "    </tr>\n",
       "    <tr>\n",
       "      <th>mississippi plane</th>\n",
       "      <td>30</td>\n",
       "    </tr>\n",
       "    <tr>\n",
       "      <th>mississippi plane crash</th>\n",
       "      <td>30</td>\n",
       "    </tr>\n",
       "    <tr>\n",
       "      <th>killed mississippi</th>\n",
       "      <td>29</td>\n",
       "    </tr>\n",
       "    <tr>\n",
       "      <th>marine vermont killed</th>\n",
       "      <td>29</td>\n",
       "    </tr>\n",
       "    <tr>\n",
       "      <th>marine vermont</th>\n",
       "      <td>29</td>\n",
       "    </tr>\n",
       "    <tr>\n",
       "      <th>vermont killed</th>\n",
       "      <td>29</td>\n",
       "    </tr>\n",
       "    <tr>\n",
       "      <th>vermont killed mississippi</th>\n",
       "      <td>29</td>\n",
       "    </tr>\n",
       "    <tr>\n",
       "      <th>killed mississippi plane</th>\n",
       "      <td>29</td>\n",
       "    </tr>\n",
       "    <tr>\n",
       "      <th>san francisco</th>\n",
       "      <td>17</td>\n",
       "    </tr>\n",
       "    <tr>\n",
       "      <th>nearly lands</th>\n",
       "      <td>14</td>\n",
       "    </tr>\n",
       "    <tr>\n",
       "      <th>military plane</th>\n",
       "      <td>12</td>\n",
       "    </tr>\n",
       "    <tr>\n",
       "      <th>lands crowded</th>\n",
       "      <td>11</td>\n",
       "    </tr>\n",
       "    <tr>\n",
       "      <th>crowded taxiway</th>\n",
       "      <td>11</td>\n",
       "    </tr>\n",
       "    <tr>\n",
       "      <th>plane ticket</th>\n",
       "      <td>11</td>\n",
       "    </tr>\n",
       "    <tr>\n",
       "      <th>air canada</th>\n",
       "      <td>11</td>\n",
       "    </tr>\n",
       "    <tr>\n",
       "      <th>lands crowded taxiway</th>\n",
       "      <td>11</td>\n",
       "    </tr>\n",
       "    <tr>\n",
       "      <th>greatest aviation</th>\n",
       "      <td>10</td>\n",
       "    </tr>\n",
       "    <tr>\n",
       "      <th>greatest aviation disaster</th>\n",
       "      <td>10</td>\n",
       "    </tr>\n",
       "  </tbody>\n",
       "</table>\n",
       "</div>"
      ],
      "text/plain": [
       "                            count\n",
       "token                            \n",
       "plane crash                 58   \n",
       "international airport       37   \n",
       "mississippi plane           30   \n",
       "mississippi plane crash     30   \n",
       "killed mississippi          29   \n",
       "marine vermont killed       29   \n",
       "marine vermont              29   \n",
       "vermont killed              29   \n",
       "vermont killed mississippi  29   \n",
       "killed mississippi plane    29   \n",
       "san francisco               17   \n",
       "nearly lands                14   \n",
       "military plane              12   \n",
       "lands crowded               11   \n",
       "crowded taxiway             11   \n",
       "plane ticket                11   \n",
       "air canada                  11   \n",
       "lands crowded taxiway       11   \n",
       "greatest aviation           10   \n",
       "greatest aviation disaster  10   "
      ]
     },
     "execution_count": 40,
     "metadata": {},
     "output_type": "execute_result"
    }
   ],
   "source": [
    "# let's look at 2- and 3- grams\n",
    "get_frequent_terms([x.all_text for x in spike_results_list_711],\n",
    "                   stop_words = \"english\",\n",
    "                   ngram_range = (2,3)).head(20)"
   ]
  },
  {
   "cell_type": "markdown",
   "metadata": {},
   "source": [
    "In this data, we can see that `\"mississippi plane crash\"`, `\"killed mississippi plane\t\"`, \"vermont killed mississippi\" all show up frequently, and they all show up *the same number of times*. Let me find one of those Tweets to look at:"
   ]
  },
  {
   "cell_type": "code",
   "execution_count": 41,
   "metadata": {},
   "outputs": [
    {
     "data": {
      "text/plain": [
       "['Marine from Vermont killed in Mississippi plane\\xa0crash https://t.co/RGnRfCI0lg',\n",
       " 'KMBC  @kmbc\\n Marine from Vermont killed in Mississippi plane crash https://t.co/DirY01X2Pd https://t.co/QTaRr1JkNQ',\n",
       " 'Pittsburgh News Marine from Vermont killed in Mississippi plane crash https://t.co/dk71SLzkm5 https://t.co/JfgXcdO1yR',\n",
       " 'Marine from Vermont killed in Mississippi plane crash https://t.co/HvjlG7vp6W https://t.co/Ij4MCBBFQn',\n",
       " 'Marine from Vermont killed in Mississippi plane crash https://t.co/7hSTiZxMmX https://t.co/irB0fdy6Vs']"
      ]
     },
     "execution_count": 41,
     "metadata": {},
     "output_type": "execute_result"
    }
   ],
   "source": [
    "[x.all_text for x in spike_results_list_711 if \"vermont\" in x.all_text.lower()][0:5]"
   ]
  },
  {
   "cell_type": "markdown",
   "metadata": {},
   "source": [
    "Doesn't have much to do with the experience of flying in a plane. Let's exclude it. In this case, we might exclude these Tweets pretty precisely by excluding \"Marine\" (it's good to pick specific, unambiguous terms for exclusions, so that you don't do anything too broad), but for this example we'll exclude \"plane crash\"--it's precise enough, will exclude other similar news-type content, and we can demonstrate exact phrase matching.\n",
    "\n",
    "Add this to my rule: `-\"plane crash\"`"
   ]
  },
  {
   "cell_type": "code",
   "execution_count": 42,
   "metadata": {
    "collapsed": true
   },
   "outputs": [],
   "source": [
    "# expand based on what you see\n",
    "_rule_c = \"\"\"\n",
    "(plane OR landed OR airport OR takeoff OR #wheelsup)\n",
    "-is:retweet\n",
    "-trump\n",
    "-harry\n",
    "-drowned\n",
    "-g20\n",
    "-lawyer\n",
    "-gimpo\n",
    "-fuck\n",
    "-\"plane crash\"\n",
    "\"\"\"\n",
    "\n",
    "spike_rule_704 = gen_rule_payload(_rule_c,\n",
    "                                  from_date=\"2017-07-04\",\n",
    "                                  to_date=\"2017-07-05\",\n",
    "                                  )\n",
    "\n",
    "spike_results_list_704 = collect_results(spike_rule_704, max_results=500, result_stream_args=search_args)"
   ]
  },
  {
   "cell_type": "code",
   "execution_count": 43,
   "metadata": {},
   "outputs": [
    {
     "data": {
      "text/html": [
       "<div>\n",
       "<style scoped>\n",
       "    .dataframe tbody tr th:only-of-type {\n",
       "        vertical-align: middle;\n",
       "    }\n",
       "\n",
       "    .dataframe tbody tr th {\n",
       "        vertical-align: top;\n",
       "    }\n",
       "\n",
       "    .dataframe thead th {\n",
       "        text-align: right;\n",
       "    }\n",
       "</style>\n",
       "<table border=\"1\" class=\"dataframe\">\n",
       "  <thead>\n",
       "    <tr style=\"text-align: right;\">\n",
       "      <th></th>\n",
       "      <th>count</th>\n",
       "    </tr>\n",
       "    <tr>\n",
       "      <th>token</th>\n",
       "      <th></th>\n",
       "    </tr>\n",
       "  </thead>\n",
       "  <tbody>\n",
       "    <tr>\n",
       "      <th>hampton airport</th>\n",
       "      <td>39</td>\n",
       "    </tr>\n",
       "    <tr>\n",
       "      <th>citizens east hampton</th>\n",
       "      <td>39</td>\n",
       "    </tr>\n",
       "    <tr>\n",
       "      <th>east hampton</th>\n",
       "      <td>39</td>\n",
       "    </tr>\n",
       "    <tr>\n",
       "      <th>east hampton airport</th>\n",
       "      <td>39</td>\n",
       "    </tr>\n",
       "    <tr>\n",
       "      <th>citizens east</th>\n",
       "      <td>39</td>\n",
       "    </tr>\n",
       "    <tr>\n",
       "      <th>international airport</th>\n",
       "      <td>30</td>\n",
       "    </tr>\n",
       "    <tr>\n",
       "      <th>airport james</th>\n",
       "      <td>29</td>\n",
       "    </tr>\n",
       "    <tr>\n",
       "      <th>hampton airport james</th>\n",
       "      <td>29</td>\n",
       "    </tr>\n",
       "    <tr>\n",
       "      <th>james barron</th>\n",
       "      <td>29</td>\n",
       "    </tr>\n",
       "    <tr>\n",
       "      <th>airport james barron</th>\n",
       "      <td>29</td>\n",
       "    </tr>\n",
       "    <tr>\n",
       "      <th>barron nyt</th>\n",
       "      <td>26</td>\n",
       "    </tr>\n",
       "    <tr>\n",
       "      <th>james barron nyt</th>\n",
       "      <td>26</td>\n",
       "    </tr>\n",
       "    <tr>\n",
       "      <th>new york</th>\n",
       "      <td>17</td>\n",
       "    </tr>\n",
       "    <tr>\n",
       "      <th>#android #gameinsight</th>\n",
       "      <td>16</td>\n",
       "    </tr>\n",
       "    <tr>\n",
       "      <th>airport city</th>\n",
       "      <td>15</td>\n",
       "    </tr>\n",
       "    <tr>\n",
       "      <th>new york times</th>\n",
       "      <td>14</td>\n",
       "    </tr>\n",
       "    <tr>\n",
       "      <th>york times</th>\n",
       "      <td>14</td>\n",
       "    </tr>\n",
       "    <tr>\n",
       "      <th>nyt new york</th>\n",
       "      <td>13</td>\n",
       "    </tr>\n",
       "    <tr>\n",
       "      <th>nyt new</th>\n",
       "      <td>13</td>\n",
       "    </tr>\n",
       "    <tr>\n",
       "      <th>barron nyt new</th>\n",
       "      <td>13</td>\n",
       "    </tr>\n",
       "  </tbody>\n",
       "</table>\n",
       "</div>"
      ],
      "text/plain": [
       "                       count\n",
       "token                       \n",
       "hampton airport        39   \n",
       "citizens east hampton  39   \n",
       "east hampton           39   \n",
       "east hampton airport   39   \n",
       "citizens east          39   \n",
       "international airport  30   \n",
       "airport james          29   \n",
       "hampton airport james  29   \n",
       "james barron           29   \n",
       "airport james barron   29   \n",
       "barron nyt             26   \n",
       "james barron nyt       26   \n",
       "new york               17   \n",
       "#android #gameinsight  16   \n",
       "airport city           15   \n",
       "new york times         14   \n",
       "york times             14   \n",
       "nyt new york           13   \n",
       "nyt new                13   \n",
       "barron nyt new         13   "
      ]
     },
     "execution_count": 43,
     "metadata": {},
     "output_type": "execute_result"
    }
   ],
   "source": [
    "get_frequent_terms([x.all_text for x in spike_results_list_704], stop_words = \"english\", ngram_range = (2,3)).head(20)"
   ]
  },
  {
   "cell_type": "markdown",
   "metadata": {},
   "source": [
    "Now, it's not the top term, but when a specific hashtag shows up with some frequency, it's time take a look. Hashtags are often used to group together topics, and by filtering the hashtag we could catch irrelevant topics. Let's look at \"#gameinsight.\""
   ]
  },
  {
   "cell_type": "code",
   "execution_count": 44,
   "metadata": {},
   "outputs": [
    {
     "data": {
      "text/plain": [
       "['¡He completado la misión Día Desafortunado en el juego Airport-City! https://t.co/Ya2oVyXXHo #android #gameinsight',\n",
       " '¡He alcanzado el nivel 8 en el juego Airport-City! https://t.co/Ya2oVyXXHo #android #gameinsight',\n",
       " 'New plane in my Airport City: Turboprop! https://t.co/Ky4J5dMyBT #iOS #gameinsight',\n",
       " \"I've completed Party Like You Mean It quest in Airport City! https://t.co/QaJ1PIehi7 #android #gameinsight\",\n",
       " \"I've completed A Chinese Torture quest in Airport City! https://t.co/QaJ1PIehi7 #android #gameinsight\"]"
      ]
     },
     "execution_count": 44,
     "metadata": {},
     "output_type": "execute_result"
    }
   ],
   "source": [
    "# try searching on the hashtag:\n",
    "[x.all_text for x in spike_results_list_704 if \"gameinsight\" in x.hashtags][0:5]"
   ]
  },
  {
   "cell_type": "markdown",
   "metadata": {},
   "source": [
    "Well, that looks like spam. Let's exclude a hashtag this time: it's specific, seems to appear in this content, and easy to exclude. Use the hashtag and negation operator in Search like this:\n",
    "\n",
    "Add `-#gameinsight`\n",
    "\n",
    "Also, it's not clear that \"gameinsight\" is all of this spike. Try searching for \"hampton\" too (as it is one of the most common terms):"
   ]
  },
  {
   "cell_type": "code",
   "execution_count": 45,
   "metadata": {},
   "outputs": [
    {
     "data": {
      "text/plain": [
       "['The Citizens of East Hampton v. Its Airport https://t.co/xDRiyor0Ej',\n",
       " '\"The Citizens of East Hampton v. Its Airport\" https://t.co/Fm6NOXqRen',\n",
       " '\"The Citizens of East Hampton v. Its Airport\" by JAMES BARRON via NYT https://t.co/LAMg6kHkZN https://t.co/pHhMKTw8Kx',\n",
       " '#3Novices : The Citizens of East Hampton v. Its Airport The Supreme Court’s refusal last week to review local restrictions on flights is th…',\n",
       " '\"The Citizens of East Hampton v. Its Airport\" by JAMES BARRON via NYT https://t.co/eaW8rdnj4M']"
      ]
     },
     "execution_count": 45,
     "metadata": {},
     "output_type": "execute_result"
    }
   ],
   "source": [
    "[x.all_text for x in spike_results_list_704 if \"hampton\" in x.all_text.lower()][0:5]"
   ]
  },
  {
   "cell_type": "markdown",
   "metadata": {},
   "source": [
    "Now,  could add: `-\"citizens of east hampton\"` and exclude this one news story, but we might have identified a larger pattern.\n",
    "\n",
    "__URL matching__  \n",
    "\n",
    "News stories about planes, crashes, etc are showing up a lot, and we do not  want to see any of them in the final dataset (again, this is absolutely a choice, and it will eliminate a lot of data, for better or for worse). We're going to choose to exclude all Tweets with certain big news URLs included in them. We're not going to get this perfect here, but we will see how to use the URL matching rule, and give you more ideas about how to filter Tweets.\n",
    "\n",
    "The `url:<token>` operator performs a tokenized match on words in the unrolled URL that was posted in the Tweet. We'll eliminate Tweets with: \"nytimes\",\"bbc\",\"washingtonpost\", \"cbsnews\", \"reuters\", \"apnews\", and \"news\" in the URL.\n",
    "\n",
    "Add:\n",
    "`-url:nytimes -url:bbc -url:washingtonpost -url:cbsnews -url:reuters -url:apnews -url:news`"
   ]
  },
  {
   "cell_type": "code",
   "execution_count": 46,
   "metadata": {
    "collapsed": true
   },
   "outputs": [],
   "source": [
    "# expand based on what you see\n",
    "_rule_d = \"\"\"\n",
    "(plane OR landed OR airport OR takeoff OR #wheelsup)\n",
    "-is:retweet\n",
    "-trump\n",
    "-harry\n",
    "-drowned\n",
    "-g20\n",
    "-lawyer\n",
    "-gimpo\n",
    "-fuck\n",
    "-\"plane crash\"\n",
    "-\"citizens of east hampton\"\n",
    "-url:nytimes -url:bbc -url:washingtonpost -url:cbsnews -url:reuters -url:apnews -url:news\n",
    "\"\"\""
   ]
  },
  {
   "cell_type": "code",
   "execution_count": 47,
   "metadata": {},
   "outputs": [
    {
     "data": {
      "text/html": [
       "<div>\n",
       "<style scoped>\n",
       "    .dataframe tbody tr th:only-of-type {\n",
       "        vertical-align: middle;\n",
       "    }\n",
       "\n",
       "    .dataframe tbody tr th {\n",
       "        vertical-align: top;\n",
       "    }\n",
       "\n",
       "    .dataframe thead th {\n",
       "        text-align: right;\n",
       "    }\n",
       "</style>\n",
       "<table border=\"1\" class=\"dataframe\">\n",
       "  <thead>\n",
       "    <tr style=\"text-align: right;\">\n",
       "      <th></th>\n",
       "      <th>count</th>\n",
       "    </tr>\n",
       "    <tr>\n",
       "      <th>time_bucket</th>\n",
       "      <th></th>\n",
       "    </tr>\n",
       "  </thead>\n",
       "  <tbody>\n",
       "    <tr>\n",
       "      <th>2017-07-03 18:00:00</th>\n",
       "      <td>5058</td>\n",
       "    </tr>\n",
       "    <tr>\n",
       "      <th>2017-07-03 19:00:00</th>\n",
       "      <td>4458</td>\n",
       "    </tr>\n",
       "  </tbody>\n",
       "</table>\n",
       "</div>"
      ],
      "text/plain": [
       "                     count\n",
       "time_bucket               \n",
       "2017-07-03 18:00:00  5058 \n",
       "2017-07-03 19:00:00  4458 "
      ]
     },
     "execution_count": 47,
     "metadata": {},
     "output_type": "execute_result"
    }
   ],
   "source": [
    "# finally, let's look at that high volume hour on July 3rd\n",
    "tweet_counts.sort_values(by = \"count\", ascending = False).head(2)"
   ]
  },
  {
   "cell_type": "code",
   "execution_count": 48,
   "metadata": {
    "collapsed": true
   },
   "outputs": [],
   "source": [
    "spike_rule_703 = gen_rule_payload(_rule_d, #<-remember, same rule\n",
    "                                  from_date=\"2017-07-03T18:00\",\n",
    "                                  to_date=\"2017-07-03T19:01\",\n",
    "                                  )\n",
    "\n",
    "# force results to evaluate (this step actually makes the API calls)\n",
    "spike_results_list_703 = collect_results(spike_rule_703, max_results=500, result_stream_args=search_args)"
   ]
  },
  {
   "cell_type": "code",
   "execution_count": 49,
   "metadata": {},
   "outputs": [
    {
     "data": {
      "text/html": [
       "<div>\n",
       "<style scoped>\n",
       "    .dataframe tbody tr th:only-of-type {\n",
       "        vertical-align: middle;\n",
       "    }\n",
       "\n",
       "    .dataframe tbody tr th {\n",
       "        vertical-align: top;\n",
       "    }\n",
       "\n",
       "    .dataframe thead th {\n",
       "        text-align: right;\n",
       "    }\n",
       "</style>\n",
       "<table border=\"1\" class=\"dataframe\">\n",
       "  <thead>\n",
       "    <tr style=\"text-align: right;\">\n",
       "      <th></th>\n",
       "      <th>count</th>\n",
       "    </tr>\n",
       "    <tr>\n",
       "      <th>token</th>\n",
       "      <th></th>\n",
       "    </tr>\n",
       "  </thead>\n",
       "  <tbody>\n",
       "    <tr>\n",
       "      <th>boston airport</th>\n",
       "      <td>133</td>\n",
       "    </tr>\n",
       "    <tr>\n",
       "      <th>near boston</th>\n",
       "      <td>84</td>\n",
       "    </tr>\n",
       "    <tr>\n",
       "      <th>near boston airport</th>\n",
       "      <td>77</td>\n",
       "    </tr>\n",
       "    <tr>\n",
       "      <th>logan airport</th>\n",
       "      <td>69</td>\n",
       "    </tr>\n",
       "    <tr>\n",
       "      <th>pedestrians near</th>\n",
       "      <td>57</td>\n",
       "    </tr>\n",
       "    <tr>\n",
       "      <th>airport injured</th>\n",
       "      <td>52</td>\n",
       "    </tr>\n",
       "    <tr>\n",
       "      <th>vehicle near boston</th>\n",
       "      <td>52</td>\n",
       "    </tr>\n",
       "    <tr>\n",
       "      <th>vehicle near</th>\n",
       "      <td>52</td>\n",
       "    </tr>\n",
       "    <tr>\n",
       "      <th>pedestrians struck</th>\n",
       "      <td>50</td>\n",
       "    </tr>\n",
       "    <tr>\n",
       "      <th>pedestrians struck vehicle</th>\n",
       "      <td>50</td>\n",
       "    </tr>\n",
       "    <tr>\n",
       "      <th>struck vehicle</th>\n",
       "      <td>50</td>\n",
       "    </tr>\n",
       "    <tr>\n",
       "      <th>struck vehicle near</th>\n",
       "      <td>50</td>\n",
       "    </tr>\n",
       "    <tr>\n",
       "      <th>boston airport injured</th>\n",
       "      <td>44</td>\n",
       "    </tr>\n",
       "    <tr>\n",
       "      <th>international airport</th>\n",
       "      <td>35</td>\n",
       "    </tr>\n",
       "    <tr>\n",
       "      <th>boston's logan</th>\n",
       "      <td>34</td>\n",
       "    </tr>\n",
       "    <tr>\n",
       "      <th>boston's logan airport</th>\n",
       "      <td>33</td>\n",
       "    </tr>\n",
       "    <tr>\n",
       "      <th>people injured</th>\n",
       "      <td>32</td>\n",
       "    </tr>\n",
       "    <tr>\n",
       "      <th>strikes crowd</th>\n",
       "      <td>31</td>\n",
       "    </tr>\n",
       "    <tr>\n",
       "      <th>car strikes</th>\n",
       "      <td>30</td>\n",
       "    </tr>\n",
       "    <tr>\n",
       "      <th>near logan</th>\n",
       "      <td>30</td>\n",
       "    </tr>\n",
       "  </tbody>\n",
       "</table>\n",
       "</div>"
      ],
      "text/plain": [
       "                            count\n",
       "token                            \n",
       "boston airport              133  \n",
       "near boston                 84   \n",
       "near boston airport         77   \n",
       "logan airport               69   \n",
       "pedestrians near            57   \n",
       "airport injured             52   \n",
       "vehicle near boston         52   \n",
       "vehicle near                52   \n",
       "pedestrians struck          50   \n",
       "pedestrians struck vehicle  50   \n",
       "struck vehicle              50   \n",
       "struck vehicle near         50   \n",
       "boston airport injured      44   \n",
       "international airport       35   \n",
       "boston's logan              34   \n",
       "boston's logan airport      33   \n",
       "people injured              32   \n",
       "strikes crowd               31   \n",
       "car strikes                 30   \n",
       "near logan                  30   "
      ]
     },
     "execution_count": 49,
     "metadata": {},
     "output_type": "execute_result"
    }
   ],
   "source": [
    "get_frequent_terms([x.all_text for x in spike_results_list_703], stop_words = \"english\", ngram_range = (2,3)).head(20)"
   ]
  },
  {
   "cell_type": "code",
   "execution_count": 50,
   "metadata": {},
   "outputs": [
    {
     "data": {
      "text/plain": [
       "['#gossip Car Strikes Crowd at East Boston Airport, Multiple People Injured https://t.co/lK1EIbm9OJ',\n",
       " 'Tru Town Films Car Strikes Crowd at East Boston Airport, Multiple People Injured https://t.co/eUy8dWqXuD',\n",
       " 'Car Strikes Crowd at East Boston Airport, Multiple People Injured https://t.co/4YcPZ3QkZA',\n",
       " 'Car Strikes Crowd at East Boston Airport, Multiple People\\xa0Injured https://t.co/yyijNbPa4p',\n",
       " 'Pedestrians struck by vehicle near Boston airport, several injuries reported https://t.co/yOnQ9bGWBk #p2 #ctl https://t.co/ugVOtnwzLs\\n\\n— …',\n",
       " \"The Times Picayune - Vehicle hits pedestrians near Boston's Logan Airport: report https://t.co/BpDCYg2i5R\",\n",
       " 'Police: Boston airport crash injures 10 pedestrians https://t.co/YlGlcHFd8u',\n",
       " 'Update: Taxi incident near Boston airport being treated as accident, not terrorism, law enforcement sources say https://t.co/kgvXLkd4Zk',\n",
       " 'Car Strikes Crowd at East Boston Airport, Multiple People Injured https://t.co/PfJ7xhgPLT',\n",
       " 'Taxi strikes pedestrians near Boston airport, police\\xa0say https://t.co/gKwp3D5sA9']"
      ]
     },
     "execution_count": 50,
     "metadata": {},
     "output_type": "execute_result"
    }
   ],
   "source": [
    "# read some Tweets\n",
    "[x.all_text for x in spike_results_list_703 if \"Boston\" in x.all_text][0:10]"
   ]
  },
  {
   "cell_type": "markdown",
   "metadata": {},
   "source": [
    "We don't want to eliminate all mentions of \"Boston Airport\" (because many of those mentions are likely relevant to my study). Instead, we'll eliminate a few common phrases like \"pedestrians struck\", \"pedestrians injured\", \"car strikes\", \"taxi strikes\".\n",
    "\n",
    "Add: `-\"pedestrians struck\" -\"pedestrians injured\" -\"car strikes\" -\"taxi strikes\" -\"car hits\"`"
   ]
  },
  {
   "cell_type": "code",
   "execution_count": 51,
   "metadata": {
    "collapsed": true
   },
   "outputs": [],
   "source": [
    "# expand based on what you see\n",
    "_rule_e = \"\"\"\n",
    "(plane OR landed OR airport OR takeoff OR #wheelsup)\n",
    "-is:retweet\n",
    "-trump\n",
    "-harry\n",
    "-drowned\n",
    "-g20\n",
    "-lawyer\n",
    "-gimpo\n",
    "-fuck\n",
    "-\"plane crash\"\n",
    "-#gameinsight\n",
    "-\"citizens of east hampton\"\n",
    "-url:nytimes -url:bbc -url:washingtonpost -url:cbsnews -url:reuters -url:apnews -url:news\n",
    "-\"pedestrians struck\" -\"pedestrians injured\" -\"car strikes\" -\"taxi strikes\" -\"car hits\"\n",
    "\"\"\"\n",
    "\n",
    "rule_e = gen_rule_payload(_rule_e,\n",
    "                        from_date=\"2017-07-01\",\n",
    "                        to_date=\"2017-08-01\",\n",
    "                        )\n",
    "\n",
    "results_list = collect_results(rule_e, max_results=500, result_stream_args=search_args)"
   ]
  },
  {
   "cell_type": "code",
   "execution_count": 52,
   "metadata": {},
   "outputs": [
    {
     "name": "stdout",
     "output_type": "stream",
     "text": [
      "Recall, our new rule is: \n",
      "(plane OR landed OR airport OR takeoff OR #wheelsup)\n",
      "-is:retweet\n",
      "-trump\n",
      "-harry\n",
      "-drowned\n",
      "-g20\n",
      "-lawyer\n",
      "-gimpo\n",
      "-fuck\n",
      "-\"plane crash\"\n",
      "-#gameinsight\n",
      "-\"citizens of east hampton\"\n",
      "-url:nytimes -url:bbc -url:washingtonpost -url:cbsnews -url:reuters -url:apnews -url:news\n",
      "-\"pedestrians struck\" -\"pedestrians injured\" -\"car strikes\" -\"taxi strikes\" -\"car hits\"\n",
      "\n"
     ]
    },
    {
     "data": {
      "image/png": "[encoded data removed]",
      "text/plain": [
       "<matplotlib.figure.Figure at 0x10e5dbf28>"
      ]
     },
     "metadata": {},
     "output_type": "display_data"
    }
   ],
   "source": [
    "print(\"Recall, our new rule is: {}\".format(_rule_e))\n",
    "count_rule_e = gen_rule_payload(_rule_e,\n",
    "                        from_date=\"2017-07-01\",\n",
    "                        to_date=\"2017-08-01\",\n",
    "                        count_bucket=\"hour\")\n",
    "\n",
    "counts_list = collect_results(count_rule_e, max_results=24*31, result_stream_args=search_args)\n",
    "\n",
    "# plot a timeseries of the Tweet counts\n",
    "tweet_counts = (pd.DataFrame(counts_list)\n",
    "     .assign(time_bucket = lambda x: pd.to_datetime(x[\"timePeriod\"]))\n",
    "     .drop(\"timePeriod\",axis = 1)\n",
    "     .set_index(\"time_bucket\")\n",
    "     .sort_index()\n",
    ")\n",
    "\n",
    "fig, axes = plt.subplots(nrows=1, ncols=2, figsize = (15,5))\n",
    "_ = tweet_counts.plot(ax=axes[0], title = \"Count of Tweets per hour\", legend = False)\n",
    "_ = tweet_counts.resample(\"D\").sum().plot(ax=axes[1], title = \"Count of Tweets per day\", legend = False)"
   ]
  },
  {
   "cell_type": "markdown",
   "metadata": {},
   "source": [
    "## Look how much irrelevant data we've eliminated\n",
    "\n",
    "Let's compare the volume of our first (unrefined) rule to our most recent one.\n",
    "\n",
    "Spoiler: We've eliminated a huge amount of unhelpful data!\n",
    "\n",
    "Now you can begin to think about using this data in an analysis."
   ]
  },
  {
   "cell_type": "code",
   "execution_count": 53,
   "metadata": {},
   "outputs": [
    {
     "data": {
      "image/png": "[encoded data removed]",
      "text/plain": [
       "<matplotlib.figure.Figure at 0x1a20a40780>"
      ]
     },
     "metadata": {},
     "output_type": "display_data"
    }
   ],
   "source": [
    "fig, axes = plt.subplots(nrows=1, ncols=1, figsize = (15,5))\n",
    "tweet_counts_original.resample(\"D\").sum().plot(ax=axes, title = \"Count of Tweets per day\", legend = False)\n",
    "tweet_counts.resample(\"D\").sum().plot(ax=axes, title = \"Count of Tweets per day\", legend = False)\n",
    "plt.legend([\"original\", \"refined\"]);"
   ]
  },
  {
   "cell_type": "code",
   "execution_count": 54,
   "metadata": {},
   "outputs": [
    {
     "data": {
      "text/html": [
       "<div>\n",
       "<style scoped>\n",
       "    .dataframe tbody tr th:only-of-type {\n",
       "        vertical-align: middle;\n",
       "    }\n",
       "\n",
       "    .dataframe tbody tr th {\n",
       "        vertical-align: top;\n",
       "    }\n",
       "\n",
       "    .dataframe thead th {\n",
       "        text-align: right;\n",
       "    }\n",
       "</style>\n",
       "<table border=\"1\" class=\"dataframe\">\n",
       "  <thead>\n",
       "    <tr style=\"text-align: right;\">\n",
       "      <th></th>\n",
       "      <th>count</th>\n",
       "    </tr>\n",
       "    <tr>\n",
       "      <th>token</th>\n",
       "      <th></th>\n",
       "    </tr>\n",
       "  </thead>\n",
       "  <tbody>\n",
       "    <tr>\n",
       "      <th>airport</th>\n",
       "      <td>247</td>\n",
       "    </tr>\n",
       "    <tr>\n",
       "      <th>plane</th>\n",
       "      <td>173</td>\n",
       "    </tr>\n",
       "    <tr>\n",
       "      <th>landed</th>\n",
       "      <td>64</td>\n",
       "    </tr>\n",
       "    <tr>\n",
       "      <th>i'm</th>\n",
       "      <td>36</td>\n",
       "    </tr>\n",
       "    <tr>\n",
       "      <th>just</th>\n",
       "      <td>35</td>\n",
       "    </tr>\n",
       "    <tr>\n",
       "      <th>international</th>\n",
       "      <td>32</td>\n",
       "    </tr>\n",
       "    <tr>\n",
       "      <th>international airport</th>\n",
       "      <td>30</td>\n",
       "    </tr>\n",
       "    <tr>\n",
       "      <th>people</th>\n",
       "      <td>21</td>\n",
       "    </tr>\n",
       "    <tr>\n",
       "      <th>like</th>\n",
       "      <td>21</td>\n",
       "    </tr>\n",
       "    <tr>\n",
       "      <th>time</th>\n",
       "      <td>18</td>\n",
       "    </tr>\n",
       "    <tr>\n",
       "      <th>don't</th>\n",
       "      <td>17</td>\n",
       "    </tr>\n",
       "    <tr>\n",
       "      <th>security</th>\n",
       "      <td>17</td>\n",
       "    </tr>\n",
       "    <tr>\n",
       "      <th>flight</th>\n",
       "      <td>16</td>\n",
       "    </tr>\n",
       "    <tr>\n",
       "      <th>takeoff</th>\n",
       "      <td>15</td>\n",
       "    </tr>\n",
       "    <tr>\n",
       "      <th>got</th>\n",
       "      <td>14</td>\n",
       "    </tr>\n",
       "    <tr>\n",
       "      <th>passenger</th>\n",
       "      <td>14</td>\n",
       "    </tr>\n",
       "    <tr>\n",
       "      <th>today</th>\n",
       "      <td>13</td>\n",
       "    </tr>\n",
       "    <tr>\n",
       "      <th>know</th>\n",
       "      <td>13</td>\n",
       "    </tr>\n",
       "    <tr>\n",
       "      <th>hours</th>\n",
       "      <td>12</td>\n",
       "    </tr>\n",
       "    <tr>\n",
       "      <th>just landed</th>\n",
       "      <td>12</td>\n",
       "    </tr>\n",
       "  </tbody>\n",
       "</table>\n",
       "</div>"
      ],
      "text/plain": [
       "                       count\n",
       "token                       \n",
       "airport                247  \n",
       "plane                  173  \n",
       "landed                 64   \n",
       "i'm                    36   \n",
       "just                   35   \n",
       "international          32   \n",
       "international airport  30   \n",
       "people                 21   \n",
       "like                   21   \n",
       "time                   18   \n",
       "don't                  17   \n",
       "security               17   \n",
       "flight                 16   \n",
       "takeoff                15   \n",
       "got                    14   \n",
       "passenger              14   \n",
       "today                  13   \n",
       "know                   13   \n",
       "hours                  12   \n",
       "just landed            12   "
      ]
     },
     "execution_count": 54,
     "metadata": {},
     "output_type": "execute_result"
    }
   ],
   "source": [
    "get_frequent_terms([x.all_text for x in results_list], stop_words = \"english\", ngram_range = (1,2)).head(20)"
   ]
  },
  {
   "cell_type": "markdown",
   "metadata": {},
   "source": [
    "## Pulling our dataset\n",
    "\n",
    "It's always possible to continue refining a dataset, and we should definitely continue that work after pulling the Tweets. The key in early data-cleaning steps is to eliminate a large bulk of irrelevant Tweets that you don't want to store or pay for (we did that).\n",
    "\n",
    "Now (**warning!** this will use quite a few API calls and you might want to think twice before actually running it. The cell type is markdown so you can't run it on accident) let's pull data with our final rule.\n",
    "\n",
    "Before you decide to pull this data, we'll check how many API calls we've used in this notebook (the `ResultStream` object provides a convenience variable for this)."
   ]
  },
  {
   "cell_type": "code",
   "execution_count": 55,
   "metadata": {},
   "outputs": [
    {
     "name": "stdout",
     "output_type": "stream",
     "text": [
      "You have used 12 API calls in this session\n"
     ]
    }
   ],
   "source": [
    "# count API calls\n",
    "print(\"You have used {} API calls in this session\".format(ResultStream.session_request_counter))"
   ]
  },
  {
   "cell_type": "markdown",
   "metadata": {},
   "source": [
    "__Store the data you pull!__  \n",
    "\n",
    "You don't want to pull this much data without saving it for later. We're going to use the `ResultStream` object to make API calls, stream data in an iterator, hold relevant data information in memory in my Python session, and (importantly!) stream raw Tweets to a file for later use.\n",
    "\n",
    "Even if you don't want to run these exact API calls, pay attention to how this is done for your own work."
   ]
  },
  {
   "cell_type": "markdown",
   "metadata": {},
   "source": [
    "__Finalize your rule__  "
   ]
  },
  {
   "cell_type": "code",
   "execution_count": 56,
   "metadata": {},
   "outputs": [
    {
     "name": "stdout",
     "output_type": "stream",
     "text": [
      "\n",
      "(plane OR landed OR airport OR takeoff OR #wheelsup)\n",
      "-is:retweet\n",
      "-trump\n",
      "-harry\n",
      "-drowned\n",
      "-g20\n",
      "-lawyer\n",
      "-gimpo\n",
      "-fuck\n",
      "-\"plane crash\"\n",
      "-#gameinsight\n",
      "-\"citizens of east hampton\"\n",
      "-url:nytimes -url:bbc -url:washingtonpost -url:cbsnews -url:reuters -url:apnews -url:news\n",
      "-\"pedestrians struck\" -\"pedestrians injured\" -\"car strikes\" -\"taxi strikes\" -\"car hits\"\n",
      "\n"
     ]
    }
   ],
   "source": [
    "# this is our final rule\n",
    "print(_rule_e)"
   ]
  },
  {
   "cell_type": "markdown",
   "metadata": {},
   "source": [
    "__No surprises__  \n",
    "You should always have a guess at how many Tweets you're going to pull _before_ you pull them. Use the Counts API (if possible), or extrapolate based on a smaller time period of data."
   ]
  },
  {
   "cell_type": "code",
   "execution_count": 57,
   "metadata": {},
   "outputs": [
    {
     "data": {
      "text/plain": [
       "count    1572126\n",
       "dtype: int64"
      ]
     },
     "execution_count": 57,
     "metadata": {},
     "output_type": "execute_result"
    }
   ],
   "source": [
    "# I can sum up the counts endpoint results to guess how may Tweets I'll get \n",
    "# (or, if you don't have access to the counts endpoints, try extrapolating from a single day)\n",
    "tweet_counts.sum()"
   ]
  },
  {
   "cell_type": "markdown",
   "metadata": {},
   "source": [
    "__Narrowing your dataset further__  \n",
    "\n",
    "You might refine your rule and find that there are still millions of Tweets about a topic on Twitter (this happens, there are lots of Tweets). \n",
    "\n",
    "If your rule is still going to pull an unrealistic number of Tweets, maybe narrow the scope of your investigation. You can:\n",
    "- **Narrow the time period**: do you really need a month of data? or maybe you could sample just a few days?\n",
    "- **Select more specific Tweets**: maybe it would be helpful to your analysis to have only Tweets that are geo tagged (this reduces data volume significantly)? Or only pull Tweets from users with profile locations? Putting stringent requirements on data can help speed up your analysis and make your data volume smaller.\n",
    "- **Sampling**: Search API doesn't support random sampling the way that the Historical APIs do. You'll have to come up with balanced ways of selecting for less data, or you can sample based on geography, time, Tweet language--anything to narrow your scope.\n",
    "\n",
    "I'm going to show one example of this by *only* pulling Tweets from users with a profile location (you can read up more on what a \"profile location\" means in our documentation) in the state of Colorado (this is for illustrative purposes, depending on your use case, we'd probably recommend narrowing the time scope first).\n",
    "\n",
    "Add: `profile_country:US profile_region:Colorado` to my Twitter Search rule."
   ]
  },
  {
   "cell_type": "code",
   "execution_count": 58,
   "metadata": {},
   "outputs": [
    {
     "data": {
      "image/png": "[encoded data removed]",
      "text/plain": [
       "<matplotlib.figure.Figure at 0x1a250a2a58>"
      ]
     },
     "metadata": {},
     "output_type": "display_data"
    }
   ],
   "source": [
    "final_rule = \"\"\"\n",
    "(plane OR landed OR airport OR takeoff OR #wheelsup)\n",
    "-is:retweet\n",
    "-trump\n",
    "-harry\n",
    "-drowned\n",
    "-g20\n",
    "-lawyer\n",
    "-gimpo\n",
    "-fuck\n",
    "-\"plane crash\"\n",
    "-#gameinsight\n",
    "-\"citizens of east hampton\"\n",
    "-url:nytimes -url:bbc -url:washingtonpost -url:cbsnews -url:reuters -url:apnews -url:news\n",
    "-\"pedestrians struck\" -\"pedstrians injured\" -\"car strikes\" -\"taxi strikes\" -\"car hits\"\n",
    "profile_country:US profile_region:\"Colorado\"\n",
    "\"\"\"\n",
    "\n",
    "count_rule = gen_rule_payload(final_rule,\n",
    "                        from_date=\"2017-07-01\",\n",
    "                        to_date=\"2017-08-01\",\n",
    "                        count_bucket=\"hour\")\n",
    "\n",
    "counts_list = collect_results(count_rule, max_results=24*31, result_stream_args=search_args)\n",
    "\n",
    "# plot a timeseries of the Tweet counts\n",
    "tweet_counts = (pd.DataFrame(counts_list)\n",
    "     .assign(time_bucket = lambda x: pd.to_datetime(x[\"timePeriod\"]))\n",
    "     .drop(\"timePeriod\",axis = 1)\n",
    "     .set_index(\"time_bucket\")\n",
    "     .sort_index()\n",
    ")\n",
    "\n",
    "fig, axes = plt.subplots(nrows=1, ncols=2, figsize = (15,5))\n",
    "_ = tweet_counts.plot(ax=axes[0], title = \"Count of Tweets per hour\", legend = False)\n",
    "_ = tweet_counts.resample(\"D\").sum().plot(ax=axes[1], title = \"Count of Tweets per day\", legend = False)"
   ]
  },
  {
   "cell_type": "code",
   "execution_count": 59,
   "metadata": {},
   "outputs": [
    {
     "data": {
      "text/plain": [
       "count    7225\n",
       "dtype: int64"
      ]
     },
     "execution_count": 59,
     "metadata": {},
     "output_type": "execute_result"
    }
   ],
   "source": [
    "tweet_counts.sum()"
   ]
  },
  {
   "cell_type": "markdown",
   "metadata": {},
   "source": [
    "## Save Tweets to a file, and stream them into memory \n",
    "\n",
    "\n",
    "Seems like a reasonable number of Tweets. Let's go get them.\n",
    "\n",
    "This time, we're going to use the ResultStream object and stream the full Tweet payloads to a file while simultaneously creating a Pandas DataFrame in memory of the limited Tweet fields that we care about. \n",
    "\n",
    "If you actually want to run the cell below, you'll have to set the cell type to \"code.\""
   ]
  },
  {
   "cell_type": "markdown",
   "metadata": {},
   "source": [
    "```python\n",
    "final_rule_payload = gen_rule_payload(final_rule,\n",
    "                                      from_date=\"2017-07-01\",\n",
    "                                      to_date=\"2017-08-01\")\n",
    "\n",
    "stream = ResultStream(**search_args,\n",
    "                       rule_payload=final_rule_payload,\n",
    "                       max_results=None) # should collect all of the results\n",
    "\n",
    "# write_ndjson is a utility function that writes the results to a file and passes them through the iterator\n",
    "from searchtweets.utils import write_ndjson\n",
    "\n",
    "limited_fields = []\n",
    "for x in write_ndjson(\"air_travel_data.json\", stream.stream()):\n",
    "    limited_fields.append({\"date\": x.created_at_datetime,\n",
    "                           \"text\": x.all_text,\n",
    "                           \"user\": x.screen_name,\n",
    "                           \"bio\": x.bio,\n",
    "                           \"at_mentions\": [u[\"screen_name\"] for u in x.user_mentions],\n",
    "                           \"hashtags\": x.hashtags,\n",
    "                           \"urls\": x.most_unrolled_urls,\n",
    "                           \"geo\": x.geo_coordinates,\n",
    "                           \"type\": x.tweet_type,\n",
    "                           \"id\": x.id})\n",
    "# create a dataframe\n",
    "final_dataset_df = pd.DataFrame(limited_fields)\n",
    "final_dataset_df.head()\n",
    "```"
   ]
  },
  {
   "cell_type": "markdown",
   "metadata": {},
   "source": [
    "# Conclusion\n",
    "\n",
    "All Tweet data collection should be focused on a question, and our focused on finding out what people were talking about while they flew on airplanes. You can use the same basic steps that we used here to answer your own business questions using Twitter data.\n",
    "\n",
    "1. Consume Tweet data \n",
    "    - We walked through how to access the Search API using the `searchtweets` [package](https://github.com/twitterdev/search-tweets-python) and how to write rules to get the Tweets that you are looking for.\n",
    "2. Parse Twitter data\n",
    "    - We talked about the JSON Tweet payloads, `Tweet` objects (provided by the `tweet_parser` [package](https://github.com/twitterdev/tweet_parser)), and Tweet [payload elements](https://developer.twitter.com/en/docs/tweets/data-dictionary/overview/intro-to-tweet-json).\n",
    "3. Describe Twitter data\n",
    "     - We talked about how to describe data, using frequent terms, top users, timeseries spikes, and Twitter elements like hashtags and links. \n",
    "4. Iterate on your search terms to filter the data\n",
    "    - We talked about how to narrow down a search by negating irrelevant terms, narrowing the time or the area of your search, and iterating until you retrieve a reasonable number of Tweets."
   ]
  }
 ],
 "metadata": {
  "kernelspec": {
   "display_name": "Python 3",
   "language": "python",
   "name": "python3"
  },
  "language_info": {
   "codemirror_mode": {
    "name": "ipython",
    "version": 3
   },
   "file_extension": ".py",
   "mimetype": "text/x-python",
   "name": "python",
   "nbconvert_exporter": "python",
   "pygments_lexer": "ipython3",
   "version": "3.6.1"
  }
 },
 "nbformat": 4,
 "nbformat_minor": 1
}
